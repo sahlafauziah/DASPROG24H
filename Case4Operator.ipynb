{
 "cells": [
  {
   "cell_type": "markdown",
   "id": "d29aeb7c-2c4c-4a85-be91-b8513df365c3",
   "metadata": {},
   "source": [
    "<h1>Operator Aritmatika</h1>"
   ]
  },
  {
   "cell_type": "code",
   "execution_count": 26,
   "id": "e5177af9-aef7-4492-8cee-a4ec8acbb6ed",
   "metadata": {},
   "outputs": [
    {
     "name": "stdout",
     "output_type": "stream",
     "text": [
      "Hasil Pembagian :  12 / 4 = 3.0\n",
      "Total Apel Budi : 20\n"
     ]
    }
   ],
   "source": [
    "# Budi memiliki 12 apel dan ingin membaginya dengan 4 temannya secara merata. Berapa apel yang diterima setiap teman?\n",
    "# Jika Budi mendapatkan tambahan 8 apel, berapa total apel yang dimilikinyasekarang?\n",
    "\n",
    "Apel = 12\n",
    "Teman = 4\n",
    "\n",
    "ApelUntukTeman = Apel / Teman\n",
    "\n",
    "print(\"Hasil Pembagian : \",Apel,\"/\",Teman,\"=\",ApelUntukTeman)\n",
    "\n",
    "PenambahanApel = 8\n",
    "Apel += PenambahanApel\n",
    "\n",
    "print(\"Total Apel Budi :\",Apel)"
   ]
  },
  {
   "cell_type": "markdown",
   "id": "7faa15ab-2092-4be8-95ec-d0772f572177",
   "metadata": {},
   "source": [
    "<h1>Operator Perbandingan</h1>"
   ]
  },
  {
   "cell_type": "code",
   "execution_count": 6,
   "id": "be648ebe-d9e6-4695-9346-c81845c9429a",
   "metadata": {},
   "outputs": [
    {
     "name": "stdout",
     "output_type": "stream",
     "text": [
      "Apakah 160 Lebih Tinggi 165 ?: False\n"
     ]
    }
   ],
   "source": [
    "#Siti memiliki tinggi 160 cm, sedangkan Andi 165 cm. Gunakan operator perbandingan untuk mengetahui siapa yang lebih tinggi.\n",
    "\n",
    "Siti = 160\n",
    "Andi = 165\n",
    "\n",
    "print(\"Apakah\",Siti,\"Lebih Tinggi\",Andi,\"?:\", Siti>Andi)"
   ]
  },
  {
   "cell_type": "markdown",
   "id": "ce50d60b-b2bc-46a8-85ef-715bf22ccf65",
   "metadata": {},
   "source": [
    "<h1>Operator Logika</h1>"
   ]
  },
  {
   "cell_type": "code",
   "execution_count": 28,
   "id": "850e37a0-3ec0-4bde-a63a-a90117f52b96",
   "metadata": {},
   "outputs": [
    {
     "name": "stdout",
     "output_type": "stream",
     "text": [
      "Apakah Budi Bisa Bermain Di Luar Jika Cuaca Cerah dan Pr Selesai : True\n",
      "Apakah Budi Bisa Bermain Di Luar Jika Cuaca Tidak Cerah dan Pr Belum Selesai : False\n"
     ]
    }
   ],
   "source": [
    "#Budi hanya bisa bermain di luar jika cuaca cerah dan dia sudah menyelesaikan PR-nya. \n",
    "#Gunakan operator logika untuk mengevaluasi apakah Budi bisa bermain.\n",
    "\n",
    "CuacaCerah = True\n",
    "PrSelesai = True\n",
    "\n",
    "print(\"Apakah Budi Bisa Bermain Di Luar Jika Cuaca Cerah dan Pr Selesai :\",not (CuacaCerah %2==0 and PrSelesai))\n",
    "print(\"Apakah Budi Bisa Bermain Di Luar Jika Cuaca Tidak Cerah dan Pr Belum Selesai :\",(CuacaCerah %2==0 and PrSelesai))\n"
   ]
  },
  {
   "cell_type": "markdown",
   "id": "1874e391-8515-4847-be02-6038e37cfd8a",
   "metadata": {},
   "source": [
    "<h1>Operator Bitwise</h1>"
   ]
  },
  {
   "cell_type": "code",
   "execution_count": 30,
   "id": "b34e9582-85a7-479a-9fbd-b5a8caced9af",
   "metadata": {},
   "outputs": [
    {
     "name": "stdout",
     "output_type": "stream",
     "text": [
      "0b110\n",
      "0b11\n",
      "------------&\n",
      "0b10 = 2\n",
      "\n",
      "0b110\n",
      "0b11\n",
      "------------|\n",
      "0b111 = 7\n",
      "\n",
      "0b110\n",
      "0b11\n",
      "------------^\n",
      "0b101 = 5\n"
     ]
    }
   ],
   "source": [
    "#Jika angka 6 direpresentasikan dalam biner sebagai 0110 dan angka 3 sebagai 0011, hitung hasil operasi AND, OR, dan XOR.\n",
    "\n",
    "Num1 = 6\n",
    "Num2 = 3\n",
    "\n",
    "print(bin(Num1))\n",
    "print(bin(Num2))\n",
    "print(\"------------&\")\n",
    "print(bin(Num1 & Num2), \"=\", Num1 & Num2)\n",
    "print()\n",
    "print(bin(Num1))\n",
    "print(bin(Num2))\n",
    "print(\"------------|\")\n",
    "print(bin(Num1|Num2), \"=\", Num1 | Num2)\n",
    "print()\n",
    "print(bin(Num1))\n",
    "print(bin(Num2))\n",
    "print(\"------------^\")\n",
    "print(bin(Num1 ^ Num2), \"=\", Num1 ^ Num2)"
   ]
  },
  {
   "cell_type": "markdown",
   "id": "986877bb-2648-4622-baf8-c61dc4881685",
   "metadata": {},
   "source": [
    "<h1>Operator Penugasan</h1>"
   ]
  },
  {
   "cell_type": "code",
   "execution_count": 32,
   "id": "35d4cbb4-6bbe-4ae4-abc0-73fcdb4c70dd",
   "metadata": {},
   "outputs": [
    {
     "name": "stdout",
     "output_type": "stream",
     "text": [
      "Nilai Saldo Pertama adalah : 50000\n",
      "lalu ditambahkan saldo sehingga Bertamabah sebanyak : 70000\n",
      "Lalu Siswa Membeli Paket internet : 40000\n",
      "Jadi Sisa Saldo Adalah 40000\n"
     ]
    }
   ],
   "source": [
    "#Seorang siswa memiliki saldo pulsa Rp50.000, lalu dia mengisi ulang Rp20.000.Setelah itu, dia membeli paket internet seharga Rp30.000.\n",
    "#Gunakan operator penugasan untuk menghitung sisa saldo pulsa.\n",
    "\n",
    "Saldo  =50000\n",
    "print(\"Nilai Saldo Pertama adalah :\", Saldo)\n",
    "Saldo +=20000\n",
    "print(\"lalu ditambahkan saldo sehingga Bertamabah sebanyak :\", Saldo)\n",
    "Saldo -=30000\n",
    "print(\"Lalu Siswa Membeli Paket internet :\",Saldo)\n",
    "\n",
    "SisaSaldo = Saldo\n",
    "print(\"Jadi Sisa Saldo Adalah\", Saldo)"
   ]
  },
  {
   "cell_type": "markdown",
   "id": "836f4f50-7d78-4db8-b2f0-0bce9d85b38c",
   "metadata": {},
   "source": [
    "<h1>Operator Keanggotaan</h1>"
   ]
  },
  {
   "cell_type": "code",
   "execution_count": 34,
   "id": "ab8cc027-18cb-44d0-80a4-ca74bd2695b4",
   "metadata": {},
   "outputs": [
    {
     "name": "stdout",
     "output_type": "stream",
     "text": [
      "False\n",
      "True\n"
     ]
    }
   ],
   "source": [
    "#Daftar peserta lomba coding adalah [\"Andi\", \"Budi\", \"Citra\", \"Dewi\"]. \n",
    "#Gunakan operator keanggotaan untuk mengecek apakah \"Eka\" terdaftar sebagai peserta. Sebuah kalimat berbunyi \"Saya suka belajar Python\".\n",
    "#Gunakan operator keanggotaan untuk mengecek apakah kata \"Python\" ada dalam kalimat tersebut.\n",
    "\n",
    "PesertaLombaCoding = [\"Andi\", \"Budi\", \"Citra\",\"Dewi\"]\n",
    "print(\"Eka\" in PesertaLombaCoding )\n",
    "\n",
    "Lomba = \"Saya Suka Belajar Phyton\"\n",
    "print(\"Phyton\" in Lomba)"
   ]
  },
  {
   "cell_type": "markdown",
   "id": "660c88a0-fb93-433a-bc07-982b40cecd85",
   "metadata": {},
   "source": [
    "<h1>Operator Identitas</h1>"
   ]
  },
  {
   "cell_type": "code",
   "execution_count": 40,
   "id": "9b0aefca-e8ce-40dd-98ab-94e18272db1c",
   "metadata": {},
   "outputs": [
    {
     "name": "stdout",
     "output_type": "stream",
     "text": [
      "Alamat Memori X :  140710679030424\n",
      "Alamat Memori Y :  140710679090832\n",
      "Alamat Memori XY :  140710679090832\n",
      "False\n",
      "True\n",
      "True\n"
     ]
    }
   ],
   "source": [
    "#Jika variabel x dan y memiliki nilai yang sama,gunakan operator identitas untuk memeriksa apakah mereka merujuk ke objek yang sama dalam memori.\n",
    "#Buat dua list dengan isi yang sama, lalu gunakan operator identitas untuk mengecek apakah kedua list tersebut mengacu pada objek yang sama\n",
    "x = 8\n",
    "y = \"8\"\n",
    "xy = y\n",
    "\n",
    "print(\"Alamat Memori X : \", id (x))\n",
    "print(\"Alamat Memori Y : \",id (y))\n",
    "print(\"Alamat Memori XY : \", id (xy))\n",
    "\n",
    "print(x is y)\n",
    "print(y is xy)\n",
    "print(x is not y)"
   ]
  },
  {
   "cell_type": "markdown",
   "id": "84df6520-c9a2-49dc-8765-e1c7280d005e",
   "metadata": {},
   "source": [
    "<h1>Operator Ternary</h1>"
   ]
  },
  {
   "cell_type": "code",
   "execution_count": 42,
   "id": "2c1538db-7a71-47a7-ad04-e15dcbdcddcb",
   "metadata": {},
   "outputs": [
    {
     "name": "stdin",
     "output_type": "stream",
     "text": [
      "Isikan Bilangan :  90\n"
     ]
    },
    {
     "name": "stdout",
     "output_type": "stream",
     "text": [
      "90 Merupakan Nilai Kurang Dari 100 atau sama dengan\n"
     ]
    },
    {
     "name": "stdin",
     "output_type": "stream",
     "text": [
      "Isikan Bilangan :  80\n"
     ]
    },
    {
     "name": "stdout",
     "output_type": "stream",
     "text": [
      "80 Hasilnya Lulus\n"
     ]
    }
   ],
   "source": [
    "#Gunakan operator ternary untuk menentukan apakah suatu angka lebih besar dari 100\n",
    "#Gunakan Operator ternary untuk mengembalikan lulus jika nilai ujian lebih dari 70, atau tidak lulus jika kurang dari 70\n",
    "Angka = int(input(\"Isikan Bilangan : \"))\n",
    "oddEven = \"Lebih besar dari 100\" if Angka > 100 else \"Kurang Dari 100 atau sama dengan\"\n",
    "print(Angka, \"Merupakan Nilai\", oddEven)\n",
    "\n",
    "Nilai = int(input(\"Isikan Bilangan : \"))\n",
    "oddEven = \"Lulus\" if Angka > 70 else \"Tidak Lulus\"\n",
    "print(Nilai, \"Hasilnya\", oddEven)"
   ]
  }
 ],
 "metadata": {
  "kernelspec": {
   "display_name": "Python [conda env:base] *",
   "language": "python",
   "name": "conda-base-py"
  },
  "language_info": {
   "codemirror_mode": {
    "name": "ipython",
    "version": 3
   },
   "file_extension": ".py",
   "mimetype": "text/x-python",
   "name": "python",
   "nbconvert_exporter": "python",
   "pygments_lexer": "ipython3",
   "version": "3.12.7"
  }
 },
 "nbformat": 4,
 "nbformat_minor": 5
}
