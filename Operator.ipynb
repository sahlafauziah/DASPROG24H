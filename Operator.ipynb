{
 "cells": [
  {
   "cell_type": "markdown",
   "id": "c8b6930d-56d1-4eea-a293-eb5ac01bd2e6",
   "metadata": {},
   "source": [
    "<h1>Operator Aritmatika</h1>"
   ]
  },
  {
   "cell_type": "code",
   "execution_count": 2,
   "id": "519936f2-f59b-4181-9b05-f616c20f19c7",
   "metadata": {},
   "outputs": [
    {
     "name": "stdin",
     "output_type": "stream",
     "text": [
      "isikan nilai X : 2\n",
      "isikan nilai Y : 3\n"
     ]
    },
    {
     "name": "stdout",
     "output_type": "stream",
     "text": [
      "Hasil Penjumlahan 2 + 3 = 5\n",
      "Hasil Pengurangan 2 - 3 = -1\n",
      "Hasil Kali 2 * 3 = 6\n",
      "Hasil Pembagian 2 / 3 = 0.6666666666666666\n",
      "Hasil Modulus 2 % 3 = 2\n",
      "Hasil Pangkat 2 ** 3 = 8\n",
      "Hasil BagiBulat 2 // 3 = 0\n"
     ]
    }
   ],
   "source": [
    "x =int (input (\"isikan nilai X :\"))\n",
    "y =int (input (\"isikan nilai Y :\"))\n",
    "\n",
    "hasilTambah = x+y\n",
    "hasilKurang = x-y\n",
    "hasilKali = x*y\n",
    "hasilBagi = x/y\n",
    "hasilMod = x%y\n",
    "hasilPangkat = x**y\n",
    "hasilBagiBulat = x//y\n",
    "\n",
    "\n",
    "print(\"Hasil Penjumlahan\",x,\"+\",y,\"=\",hasilTambah)\n",
    "print(\"Hasil Pengurangan\",x,\"-\",y,\"=\",hasilKurang)\n",
    "print(\"Hasil Kali\",x,\"*\",y,\"=\",hasilKali)\n",
    "print(\"Hasil Pembagian\",x,\"/\",y,\"=\",hasilBagi)\n",
    "print(\"Hasil Modulus\",x,\"%\",y,\"=\",hasilMod)\n",
    "print(\"Hasil Pangkat\",x,\"**\",y,\"=\",hasilPangkat)\n",
    "print(\"Hasil BagiBulat\",x,\"//\",y,\"=\",hasilBagiBulat)"
   ]
  },
  {
   "cell_type": "code",
   "execution_count": 4,
   "id": "07bc3c24-4159-407c-bbc9-0274c5ce5643",
   "metadata": {},
   "outputs": [
    {
     "name": "stdin",
     "output_type": "stream",
     "text": [
      "Isikan Nilai : 2\n"
     ]
    },
    {
     "name": "stdout",
     "output_type": "stream",
     "text": [
      "Nilai dari variabel <niali> adalah: 2\n",
      "<niali> setelah ditambahkan dengan 5 adalah: 7\n",
      "<niali> setelah dikurangkan dengan 10 adalah: -3\n",
      "<niali> setelah dikalikan dengan 4 adalah: -12\n",
      "<niali> setelah ditambahkan dengan 2 adalah: -6.0\n"
     ]
    }
   ],
   "source": [
    "nilai = int(input(\"Isikan Nilai :\"))\n",
    "print(\"Nilai dari variabel <niali> adalah:\", nilai) \n",
    "nilai +=5\n",
    "print(\"<niali> setelah ditambahkan dengan 5 adalah:\", nilai)  \n",
    "nilai-=10\n",
    "print(\"<niali> setelah dikurangkan dengan 10 adalah:\", nilai)\n",
    "nilai*=4\n",
    "print(\"<niali> setelah dikalikan dengan 4 adalah:\", nilai)  \n",
    "nilai/=2\n",
    "print(\"<niali> setelah ditambahkan dengan 2 adalah:\", nilai)  "
   ]
  },
  {
   "cell_type": "markdown",
   "id": "a9c44eea-aa1b-48e9-926a-5e1f5ae102af",
   "metadata": {},
   "source": [
    "<h1>Operator Perbandingan</h1>"
   ]
  },
  {
   "cell_type": "code",
   "execution_count": 6,
   "id": "bc6f1513-c7b9-4179-82d4-b7fb9e8f127f",
   "metadata": {},
   "outputs": [
    {
     "name": "stdin",
     "output_type": "stream",
     "text": [
      "Isikan Nilai 1: 2\n",
      "Isikan Nilai 2: 6\n"
     ]
    },
    {
     "name": "stdout",
     "output_type": "stream",
     "text": [
      "Apakah 2 Sama Dengan 6 ?: False\n",
      "Apakah 2 Tidak Sama Dengan 6 ?: True\n",
      "Apakah 2 Lebih Besar 6 ?: False\n",
      "Apakah 2 Lebih Kecil 6 ?: True\n",
      "Apakah 2 Lebih Kecil Sama dengan 6 ?: True\n",
      "Apakah 2 Lebih Besar Sama Dengan 6 ?: False\n"
     ]
    }
   ],
   "source": [
    "val1 = int(input(\"Isikan Nilai 1:\"))\n",
    "val2 = int(input(\"Isikan Nilai 2:\"))\n",
    "\n",
    "print(\"Apakah\",val1,\"Sama Dengan\",val2,\"?:\", val1==val2) \n",
    "print(\"Apakah\",val1,\"Tidak Sama Dengan\",val2,\"?:\", val1!=val2)\n",
    "print(\"Apakah\",val1,\"Lebih Besar\",val2,\"?:\", val1>val2)\n",
    "print(\"Apakah\",val1,\"Lebih Kecil\",val2,\"?:\", val1<val2) \n",
    "print(\"Apakah\",val1,\"Lebih Kecil Sama dengan\",val2,\"?:\", val1<=val2) \n",
    "print(\"Apakah\",val1,\"Lebih Besar Sama Dengan\",val2,\"?:\", val1>=val2) "
   ]
  },
  {
   "cell_type": "markdown",
   "id": "7b74bc43-e60f-4467-926b-eac42829f57f",
   "metadata": {},
   "source": [
    "<h1>Operator Logika</h1>"
   ]
  },
  {
   "cell_type": "code",
   "execution_count": 9,
   "id": "28f58fdc-25a4-4f89-b0be-05f81abef0fa",
   "metadata": {},
   "outputs": [
    {
     "name": "stdin",
     "output_type": "stream",
     "text": [
      "Isikan Bilangan 1 : 4\n",
      "Isikan Bilangan 2 : 8\n"
     ]
    },
    {
     "name": "stdout",
     "output_type": "stream",
     "text": [
      "Apakah <num1> %2 = 0 and <num2> > 4 True\n",
      "Apakah <num1> %2 = 0 or <num2> > 4 True\n",
      "Apakah <num1> %2 = 0 or <num2> > 4 False\n"
     ]
    }
   ],
   "source": [
    "num1 = int(input(\"Isikan Bilangan 1 :\"))\n",
    "num2 = int(input(\"Isikan Bilangan 2 :\"))\n",
    "\n",
    "print(\"Apakah <num1> %2 = 0 and <num2> > 4\",num1 %2==0 and num2 > 4) \n",
    "print(\"Apakah <num1> %2 = 0 or <num2> > 4\", num1 %2==0 or num2 > 4) \n",
    "print(\"Apakah <num1> %2 = 0 or <num2> > 4\", not(num1 %2==0 and num2 > 4))\n"
   ]
  },
  {
   "cell_type": "markdown",
   "id": "cde6b35f-6143-4aee-9c9d-648fe46b5081",
   "metadata": {},
   "source": [
    "<h1>Operator Identitas</h1>"
   ]
  },
  {
   "cell_type": "raw",
   "id": "91f825ca-e985-41a6-934c-07cd4ee7d10c",
   "metadata": {},
   "source": [
    "number1 = 10\n",
    "number2 = \"10\"\n",
    "number3 = number2\n",
    "\n",
    "print(\"Alamat Memori number1: \",id(number1))\n",
    "print(\"Alamat Memori number2: \",id(number2))\n",
    "print(\"Alamat Memori number3: \",id(number3))\n",
    "\n",
    "print(number1 is number2)\n",
    "print(number2 is number3)\n",
    "print(number1 is not number2)"
   ]
  },
  {
   "cell_type": "markdown",
   "id": "e5e3f5c2-8b66-4b70-b1cd-4fe016ba3107",
   "metadata": {},
   "source": [
    "<h1>Operator Keanggotaan</h1>"
   ]
  },
  {
   "cell_type": "code",
   "execution_count": 45,
   "id": "4d5c9618-b81e-4dd2-b902-e4fdd20efe56",
   "metadata": {},
   "outputs": [
    {
     "name": "stdout",
     "output_type": "stream",
     "text": [
      "True\n",
      "False\n",
      "True\n"
     ]
    }
   ],
   "source": [
    "nama = \"SAHLA\"\n",
    "print(\"S\" in nama)\n",
    "\n",
    "listAnakBapak = [\"Irfan\",\"Lala\",\"Ahla\"]\n",
    "print(nama in listAnakBapak)\n",
    "print(nama not in listAnakBapak)"
   ]
  },
  {
   "cell_type": "markdown",
   "id": "a3620d99-f6b2-47ff-9f81-d0df2a89098c",
   "metadata": {},
   "source": [
    "<h1>Operator Bitwise</h1>"
   ]
  },
  {
   "cell_type": "code",
   "execution_count": 35,
   "id": "4b47ab6c-febf-4beb-8d32-d65aa820e9b9",
   "metadata": {},
   "outputs": [
    {
     "name": "stdin",
     "output_type": "stream",
     "text": [
      "Isikan bilangan 1: 3\n",
      "Isikan bilangan 2: 6\n"
     ]
    },
    {
     "name": "stdout",
     "output_type": "stream",
     "text": [
      "0b11\n",
      "0b110\n",
      "----------&\n",
      "0b10 = 2\n",
      "\n",
      "0b11\n",
      "0b110\n",
      "----------|\n",
      "0b111 = 7\n",
      "\n",
      "0b11\n",
      "0b110\n",
      "----------^\n",
      "0b101 = 5\n",
      "\n",
      "0b11 Geser ke kiri sebanyak 6\n",
      "Hasilnya adalah: 0b11000000 = 192\n",
      "0b11 Geser ke Kanan sebanyak 6\n",
      "Hasilnya adalah: 0b0 = 0\n"
     ]
    }
   ],
   "source": [
    "number1 = int(input(\"Isikan bilangan 1:\"))\n",
    "number2 = int(input(\"Isikan bilangan 2:\"))\n",
    "\n",
    "print(bin(number1))\n",
    "print(bin(number2))\n",
    "print(\"----------&\")\n",
    "print(bin(number1 & number2), \"=\", number1 & number2)\n",
    "print()\n",
    "print(bin(number1))\n",
    "print(bin(number2))\n",
    "print(\"----------|\")\n",
    "print(bin(number1 | number2), \"=\", number1 | number2)\n",
    "print()\n",
    "print(bin(number1))\n",
    "print(bin(number2))\n",
    "print(\"----------^\")\n",
    "print(bin(number1 ^ number2), \"=\", number1 ^ number2)\n",
    "print()\n",
    "\n",
    "print(bin(number1),\"Geser ke kiri sebanyak\", number2)\n",
    "print(\"Hasilnya adalah:\",bin(number1 << number2), \"=\", number1<<number2)\n",
    "\n",
    "print(bin(number1),\"Geser ke Kanan sebanyak\", number2)\n",
    "print(\"Hasilnya adalah:\",bin(number1 >> number2), \"=\", number1>>number2)"
   ]
  },
  {
   "cell_type": "markdown",
   "id": "de3db5ed-339f-48e7-b0b7-9b6095dfe47f",
   "metadata": {},
   "source": [
    "<h1>Operator Ternary</h1>"
   ]
  },
  {
   "cell_type": "code",
   "execution_count": 39,
   "id": "bccbca81-7bcc-49e0-905e-bc0b9c366e63",
   "metadata": {},
   "outputs": [
    {
     "name": "stdin",
     "output_type": "stream",
     "text": [
      "Isikan Bilangan : 6\n"
     ]
    },
    {
     "name": "stdout",
     "output_type": "stream",
     "text": [
      "6 Adalah Bilangan Genap\n"
     ]
    }
   ],
   "source": [
    "#Bilangan Ganjil atau Genap\n",
    "number = int(input(\"Isikan Bilangan :\"))\n",
    "oddEven = \"Genap\" if number % 2==0 else \"Ganjil\"\n",
    "print(number, \"Adalah Bilangan\", oddEven)\n"
   ]
  },
  {
   "cell_type": "code",
   "execution_count": 43,
   "id": "22ed96de-7c8e-488d-8f9f-c2260e0812f6",
   "metadata": {},
   "outputs": [
    {
     "name": "stdin",
     "output_type": "stream",
     "text": [
      "Isikan Jumlah Pisang : 2\n",
      "Isikan Jumlah Kolak : 1\n",
      "Isikan Jumlah Es Buah : 1\n"
     ]
    },
    {
     "name": "stdout",
     "output_type": "stream",
     "text": [
      "Jumlah Harga : 2 * 13000 = 26000\n",
      "Jumlah Harga : 1 * 7000 = 7000\n",
      "Jumlah Harga : 1 * 15000 = 15000\n",
      "================================================\n",
      "Total Belanja :  48000\n",
      "Total diskon :  5 % -> 2400.0\n",
      "Total bayar 45600.0\n"
     ]
    }
   ],
   "source": [
    "pisang = int(input(\"Isikan Jumlah Pisang :\"))\n",
    "Kolak = int(input(\"Isikan Jumlah Kolak :\"))\n",
    "Esbuah = int(input(\"Isikan Jumlah Es Buah :\"))\n",
    "\n",
    "pisang1 = 13000\n",
    "Kolak1 = 7000\n",
    "Esbuah1 = 15000\n",
    "\n",
    "hasilKali = pisang*pisang1\n",
    "hasilKolak = Kolak*Kolak1\n",
    "hasilEsbuah = Esbuah*Esbuah1\n",
    "\n",
    "print(\"Jumlah Harga :\",pisang,\"*\",pisang1,\"=\",hasilKali)\n",
    "print(\"Jumlah Harga :\",Kolak,\"*\",Kolak1,\"=\",hasilKolak)\n",
    "print(\"Jumlah Harga :\",Esbuah,\"*\",Esbuah1,\"=\",hasilEsbuah)\n",
    "print(\"================================================\")\n",
    "totalBelanja = hasilKali + hasilKolak + hasilEsbuah\n",
    "print(\"Total Belanja : \", totalBelanja)\n",
    "discount = 5 if totalBelanja > 25000 else 0\n",
    "print(\"Total diskon : \",discount,\"% ->\", totalBelanja * (discount/100))\n",
    "print(\"Total bayar\", totalBelanja - (totalBelanja * (discount/100)))"
   ]
  }
 ],
 "metadata": {
  "kernelspec": {
   "display_name": "Python [conda env:base] *",
   "language": "python",
   "name": "conda-base-py"
  },
  "language_info": {
   "codemirror_mode": {
    "name": "ipython",
    "version": 3
   },
   "file_extension": ".py",
   "mimetype": "text/x-python",
   "name": "python",
   "nbconvert_exporter": "python",
   "pygments_lexer": "ipython3",
   "version": "3.12.7"
  }
 },
 "nbformat": 4,
 "nbformat_minor": 5
}
