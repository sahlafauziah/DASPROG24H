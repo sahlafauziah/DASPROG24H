{
 "cells": [
  {
   "cell_type": "code",
   "execution_count": 92,
   "id": "8473390e-6676-42ae-8ef2-4070accee63f",
   "metadata": {},
   "outputs": [],
   "source": [
    "def reversePerKata(kalimat):\n",
    "    kata = kalimat.split() 
    "    hasil = []\n",
    "    for k in kata :\n",
    "        hasil.append(k[::-1])\n",
    "    return ' ' .join(hasil)"
   ]
  },
  {
   "cell_type": "code",
   "execution_count": 52,
   "id": "a363599f-58d1-437a-8ac2-c3f3f26d7e1c",
   "metadata": {},
   "outputs": [],
   "source": [
    "def urutanKalimat(kalimat, urutan):\n",
    "    kata = kalimat.split() 
    "    hasil = []\n",
    "    for i in urutan :\n",
    "        hasil.append(kata[i - 1])\n",
    "    return ' '.join(hasil)\n"
   ]
  },
  {
   "cell_type": "code",
   "execution_count": 78,
   "id": "a48948e1-b2f5-43ae-b15a-0d4025670530",
   "metadata": {},
   "outputs": [],
   "source": [
    "def gantiVocal(kalimat, pilihan):\n",
    "    hasil = ''\n",
    "    vocalKecil = {'a':'4', 'i':'1', 'u': '|_|', 'e':'3', 'o':'0'}\n",
    "    vocalBesar = {'A':'4', 'I':'1', 'U': '|_|', 'E':'3', 'O':'0'}\n",
    "    for huruf in kalimat:\n",
    "        if pilihan==1 and huruf in vocalKecil:\n",
    "            hasil += vocalKecil[huruf]\n",
    "        elif pilihan==2 and huruf in vocalBesar:\n",
    "            hasil += vocalBesar[huruf]\n",
    "        else:\n",
    "            hasil += huruf\n",
    "    return hasil\n",
    "    "
   ]
  },
  {
   "cell_type": "code",
   "execution_count": 94,
   "id": "df0c07b9-da51-4b31-9658-00426d24bb90",
   "metadata": {},
   "outputs": [
    {
     "name": "stdout",
     "output_type": "stream",
     "text": [
      "UKA ATNIC UMAK\n",
      "PYTHON HARI BELAJAR SEDANG INI\n",
      "Ak|_| C1nt4 K4m|_|\n",
      "4ku Cinta Kamu\n"
     ]
    }
   ],
   "source": [
    "print(reversePerKata(\"AKU CINTA KAMU\"))\n",
    "print(urutanKalimat(\"HARI INI SEDANG BELAJAR PYTHON\", [5, 1, 4, 3, 2]))\n",
    "print(gantiVocal(\"Aku Cinta Kamu\", 1))\n",
    "print(gantiVocal(\"Aku Cinta Kamu\" , 2))"
   ]
  },
  {
   "cell_type": "code",
   "execution_count": null,
   "id": "92d51124-8bf5-4ee4-b644-018eaabaf1a4",
   "metadata": {},
   "outputs": [],
   "source": []
  }
 ],
 "metadata": {
  "kernelspec": {
   "display_name": "Python [conda env:base] *",
   "language": "python",
   "name": "conda-base-py"
  },
  "language_info": {
   "codemirror_mode": {
    "name": "ipython",
    "version": 3
   },
   "file_extension": ".py",
   "mimetype": "text/x-python",
   "name": "python",
   "nbconvert_exporter": "python",
   "pygments_lexer": "ipython3",
   "version": "3.12.7"
  }
 },
 "nbformat": 4,
 "nbformat_minor": 5
}
