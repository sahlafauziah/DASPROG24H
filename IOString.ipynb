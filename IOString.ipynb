{
 "cells": [
  {
   "cell_type": "code",
   "execution_count": 4,
   "id": "ca20a6e7",
   "metadata": {},
   "outputs": [
    {
     "name": "stdout",
     "output_type": "stream",
     "text": [
      "isikan nama anda:sahla\n",
      "selamat datang sahla\n",
      "Ini adalah urutan angka:\n",
      "123\n",
      "A-B-C\n"
     ]
    }
   ],
   "source": [
    "name = input(\"isikan nama anda:\")\n",
    "\n",
    "print(\"selamat datang\",name)\n",
    "print(\"Ini adalah urutan angka:\")\n",
    "print(\"1\", end='')\n",
    "print(\"2\", end='')\n",
    "print(\"3\")\n",
    "print(\"A\",\"B\",\"C\",sep='-')"
   ]
  },
  {
   "cell_type": "markdown",
   "id": "09902e7f",
   "metadata": {},
   "source": [
    "<h1>String Format</h1>"
   ]
  },
  {
   "cell_type": "code",
   "execution_count": 7,
   "id": "247d6f63",
   "metadata": {},
   "outputs": [
    {
     "name": "stdout",
     "output_type": "stream",
     "text": [
      "Isikan Bilangan 1:4\n",
      "Isikan Bilangan 2:7\n",
      "Hasil penjumlahan: 4 + 7 = 11\n",
      "Hasil penjumlahan 4 + 7 = 11\n"
     ]
    }
   ],
   "source": [
    "val1 = int(input(\"Isikan Bilangan 1:\"))\n",
    "val2 = int(input(\"Isikan Bilangan 2:\"))\n",
    "\n",
    "print(\"Hasil penjumlahan:\", val1,\"+\",val2,\"=\",val1+val2)\n",
    "print(\"Hasil penjumlahan {} + {} = {}\".format(val1,val2,val1+val2))"
   ]
  },
  {
   "cell_type": "markdown",
   "id": "2c834e03",
   "metadata": {},
   "source": [
    "<h1>Format Index</h1>"
   ]
  },
  {
   "cell_type": "code",
   "execution_count": 9,
   "id": "9e9be92c",
   "metadata": {},
   "outputs": [
    {
     "name": "stdout",
     "output_type": "stream",
     "text": [
      "Isikan nama awal:sahla\n",
      "Isikan nama Tengah:nurul\n",
      "Isikan nama Akhir:fauziah\n",
      "Nama Lengkap: sahla nurul fauziah\n",
      "Nama Lengkap: nurul sahla fauziah\n",
      "Nama Lengkap: sahla nurul fauziah\n"
     ]
    }
   ],
   "source": [
    "fName = input(\"Isikan nama awal:\")\n",
    "mName = input(\"Isikan nama Tengah:\")\n",
    "lName = input(\"Isikan nama Akhir:\")\n",
    "print(\"Nama Lengkap: {} {} {}\".format(fName,mName,lName))\n",
    "print(\"Nama Lengkap: {1} {0} {2}\".format(fName,mName,lName))\n",
    "#menggunakan key variabel\n",
    "print(\"Nama Lengkap: {f} {m} {l}\".format(f=fName, l=lName, m=mName))"
   ]
  },
  {
   "cell_type": "markdown",
   "id": "48b35ab8",
   "metadata": {},
   "source": [
    "<h1>Slicing</h1>\n",
    "\n",
    "mengambil karakter pada string berdasarkan index"
   ]
  },
  {
   "cell_type": "code",
   "execution_count": 12,
   "id": "57110b71",
   "metadata": {},
   "outputs": [
    {
     "name": "stdout",
     "output_type": "stream",
     "text": [
      "Isikan kalimat:Universitas Nusa Putra\n",
      "Karakter ke 2 adalah : n\n",
      "Karakter ke 3 dst: iversitas Nusa Putra\n",
      "Karakter ke 2-4: niv\n",
      "Karakter terakhir adalah: a\n",
      "Kalimat dibalik menjadi: artuP asuN satisrevinU\n"
     ]
    }
   ],
   "source": [
    "kalimat = input(\"Isikan kalimat:\")\n",
    "#Mencetak karakter ke 2\n",
    "print(\"Karakter ke 2 adalah :\",kalimat[1])\n",
    "#Mencetak karakter ke 3 sampai seterusnya\n",
    "print(\"Karakter ke 3 dst:\",kalimat[2:])\n",
    "#Mencetak karakter ke 2 sampai ke 4\n",
    "print(\"Karakter ke 2-4:\",kalimat[1:4])\n",
    "#Mencetak karakter terakhir\n",
    "print(\"Karakter terakhir adalah:\",kalimat[-1])\n",
    "#Reverse\n",
    "print(\"Kalimat dibalik menjadi:\",kalimat[::-1])"
   ]
  },
  {
   "cell_type": "markdown",
   "id": "42116df6",
   "metadata": {},
   "source": [
    "<h1>Fungsi String</h1>"
   ]
  },
  {
   "cell_type": "code",
   "execution_count": 18,
   "id": "d95a6b26",
   "metadata": {},
   "outputs": [
    {
     "name": "stdout",
     "output_type": "stream",
     "text": [
      "Nama awal : Sahla\n",
      "Nama akhir : Fauziah\n",
      "Gelar : S.Kom\n",
      "5\n",
      "Isikan email anda:sahlanurul@gmail.com\n",
      "Email Valid\n"
     ]
    }
   ],
   "source": [
    "namaLengkap = \"Sahla Fauziah S.Kom\"\n",
    "nama = namaLengkap.split(' ')\n",
    "print(\"Nama awal :\", nama[0])\n",
    "print(\"Nama akhir :\", nama[1])\n",
    "print(\"Gelar :\", nama[2])\n",
    "\n",
    "#Fungsi Find\n",
    "#Jika Ketemu, Mengembalikan index dari posisi karakter yangh dicari\n",
    "#Jika Tidak akan menghasikan -1\n",
    "nomorPlat = \"F1602VO\"\n",
    "cari = nomorPlat.find(\"V\")\n",
    "print(cari)\n",
    "\n",
    "#Buatlah program untuk menvalidasi apakah email valid atau tidak\n",
    "#Valid -> mempunyai tanda @ sama. => sahla@gmsil.com\n",
    "#sahla.nu@gmail.com => Tidak Valid\n",
    "#Posisi @ disebelah kiri dari posisi\n",
    "\n",
    "email = input(\"Isikan email anda:\")\n",
    "findAt  = email.find(\"@\")\n",
    "findPeriod = email.find('.')\n",
    "\n",
    "validation = \"Email Valid\" if findAt != -1 and findPeriod != -1 and findAt < findPeriod else \"Email Tidak Valid\"\n",
    "print(validation)"
   ]
  },
  {
   "cell_type": "code",
   "execution_count": 19,
   "id": "9d17025f",
   "metadata": {},
   "outputs": [
    {
     "name": "stdout",
     "output_type": "stream",
     "text": [
      " Masukkan angka:1234\n",
      "Hasil dari 1234 - 10 = 1224\n"
     ]
    }
   ],
   "source": [
    "number = input(\" Masukkan angka:\")\n",
    "sum = int(number[0]) + int(number[1]) + int(number[2]) + int(number[3])\n",
    "result = int(number) - sum\n",
    "\n",
    "print(\"Hasil dari {} - {} = {}\".format(number, sum, result))"
   ]
  },
  {
   "cell_type": "code",
   "execution_count": 22,
   "id": "148bd029",
   "metadata": {},
   "outputs": [
    {
     "name": "stdout",
     "output_type": "stream",
     "text": [
      "Nilai Acak Pecahan : 0.1378940528386493\n",
      "Nilai Acak antar 0-100: 56\n",
      "sekarang bulan:Sep\n",
      "sekarang hari:['tue', '2']\n",
      "Berapakah hasil 90 + 86?\n",
      "Isikan jawaban anda :176\n",
      "Anda Benar!!\n"
     ]
    }
   ],
   "source": [
    "#Fungsi String Random Bilangan\n",
    "from random import random #Float\n",
    "nilai = random()\n",
    "#FString\n",
    "print(f\"Nilai Acak Pecahan : {nilai}\")\n",
    "\n",
    "from random import randint\n",
    "intNilai = randint(0,100)\n",
    "print(f\"Nilai Acak antar 0-100: {intNilai}\")\n",
    "\n",
    "from random import choice\n",
    "month = [\"jan\",\"Feb\",\"Mar\",\"May\",\"Jun\",\"Jul\",\"Aug\",\"Sep\"]\n",
    "day = [[\"mon\",\"1\"],[\"tue\",\"2\"],[\"wed\",\"3\"],[\"thu\",\"4\"],[\"fri\",\"5\"],[\"sat\",\"6\"]]\n",
    "cDay = choice(day)\n",
    "cMonth = choice(month)\n",
    "print(f\"sekarang bulan:{cMonth}\")\n",
    "print(f\"sekarang hari:{cDay}\")\n",
    "\n",
    "nilai1 = randint(0,100)\n",
    "nilai2 = randint(0,100)\n",
    "print(f\"Berapakah hasil {nilai1} + {nilai2}?\")\n",
    "answer = int(input(\"Isikan jawaban anda :\"))\n",
    "check = \"Anda Benar!!\" if nilai1 + nilai2 == answer else \"Anda Salah!\"\n",
    "print(check)"
   ]
  },
  {
   "cell_type": "code",
   "execution_count": 24,
   "id": "eee8683d",
   "metadata": {},
   "outputs": [
    {
     "name": "stdout",
     "output_type": "stream",
     "text": [
      "Apa arti dari Eat?\n",
      "Isikan jawaban:tidur\n",
      "Anda Salah!\n"
     ]
    }
   ],
   "source": [
    "from random import choice\n",
    "kamus = [[\"Eat\",\"Makan\"],[\"Drink\",\"Miunum\"],[\"Reading\",\"Membaca\"]]\n",
    "cKamus = choice(kamus)\n",
    "print(f\"Apa arti dari {cKamus[0]}?\")\n",
    "jawab = input(\"Isikan jawaban:\")\n",
    "check = \"Anda Benar!!\" if jawab.lower() == cKamus[1].lower() else \"Anda Salah!\"\n",
    "print(check)"
   ]
  }
 ],
 "metadata": {
  "kernelspec": {
   "display_name": "Python 3 (ipykernel)",
   "language": "python",
   "name": "python3"
  },
  "language_info": {
   "codemirror_mode": {
    "name": "ipython",
    "version": 3
   },
   "file_extension": ".py",
   "mimetype": "text/x-python",
   "name": "python",
   "nbconvert_exporter": "python",
   "pygments_lexer": "ipython3",
   "version": "3.9.12"
  }
 },
 "nbformat": 4,
 "nbformat_minor": 5
}
