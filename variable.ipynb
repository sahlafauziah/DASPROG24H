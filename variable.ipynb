{
 "cells": [
  {
   "cell_type": "code",
   "execution_count": 3,
   "id": "363ad4a3",
   "metadata": {},
   "outputs": [
    {
     "name": "stdout",
     "output_type": "stream",
     "text": [
      "nama : sahla\n",
      "Alamat :  Jl. Cisaat\n",
      "Umur :  20\n",
      "Nilai Pemrograman :  85.7\n",
      "status pernikahan :   False\n",
      "provinsi :  743412\n"
     ]
    }
   ],
   "source": [
    "name =\"sahla\"\n",
    "address, province = \"Jl. Cisaat\",\"743412\"\n",
    "age = 20\n",
    "scorePython = 85.7\n",
    "isMarried = False\n",
    "\n",
    "print(\"nama :\" ,name)\n",
    "print(\"Alamat : \",address)\n",
    "print(\"Umur : \" ,age)\n",
    "print(\"Nilai Pemrograman : \",scorePython)\n",
    "print(\"status pernikahan :  \",isMarried)\n",
    "print(\"provinsi : \", province)"
   ]
  },
  {
   "cell_type": "code",
   "execution_count": 4,
   "id": "b3bf9a94",
   "metadata": {},
   "outputs": [
    {
     "name": "stdout",
     "output_type": "stream",
     "text": [
      "Tipe data <name> :  <class 'str'>\n",
      "Tipe data <address> :  <class 'str'>\n",
      "Tipe data <age> :  <class 'int'>\n",
      "Tipe data <scorePython> :  <class 'float'>\n",
      "Tipe data <isMarried> :  <class 'bool'>\n",
      "Tipe data <province :  <class 'str'>\n"
     ]
    }
   ],
   "source": [
    "print(\"Tipe data <name> : \",type(name))\n",
    "print(\"Tipe data <address> : \",type(address))\n",
    "print(\"Tipe data <age> : \",type(age))\n",
    "print(\"Tipe data <scorePython> : \",type(scorePython))\n",
    "print(\"Tipe data <isMarried> : \",type(isMarried))\n",
    "print(\"Tipe data <province : \", type(province))"
   ]
  },
  {
   "cell_type": "code",
   "execution_count": 8,
   "id": "d792b883",
   "metadata": {},
   "outputs": [
    {
     "name": "stdout",
     "output_type": "stream",
     "text": [
      "743414_743412.0_True\n",
      "20_20.0_True\n",
      "85.7_85_True\n",
      "False_0_0.0\n",
      "Nilai desimal :  500\n",
      "Nilai biner :  10\n",
      "Nilai octal :  255\n",
      "Nilai hexa :  255\n",
      "Nilai Biner dari  500 : 0b111110100\n",
      "Nilai octal dari  500 : 0o764\n",
      "Nilai Hexa dari  500 : 0x1f4\n"
     ]
    }
   ],
   "source": [
    "#Casting/Konversi Tipe Data\n",
    "#1. String ke (int, float, boolean)\n",
    "strToInt = int(province)\n",
    "strToFloat = float(province)\n",
    "strToBool = bool(province)\n",
    "print(strToInt + 2,strToFloat,strToBool, sep=\"_\")\n",
    "\n",
    "#2.  Int ke (str, float, boolean)\n",
    "intToStr = str(age)\n",
    "intToFloat = float(age)\n",
    "intToBool = bool(age)\n",
    "print(intToStr, intToFloat, intToBool, sep=\"_\")\n",
    "\n",
    "#3. float ke (str, int, boolean)\n",
    "floatTostr = str(scorePython)\n",
    "floatToint = int(scorePython)\n",
    "floatTobool = bool(scorePython)\n",
    "print(floatTostr, floatToint, floatTobool, sep=\"_\")\n",
    "\n",
    "#4. Bool ke (int, str, float)\n",
    "boolToStr = str(isMarried)\n",
    "boolToint = int(isMarried)\n",
    "boolTofloat = float(isMarried)\n",
    "print(boolToStr, boolToint, boolTofloat, sep=\"_\")\n",
    "\n",
    "#Tipe data basis bilangan (decimal,biner,octal,hexa)\n",
    "\n",
    "desimal = 500\n",
    "biner = 0b1010 #10\n",
    "octal = 0o377 #255\n",
    "hexa = 0xff #255\n",
    "\n",
    "print(\"Nilai desimal : \", desimal)\n",
    "print(\"Nilai biner : \", biner)\n",
    "print(\"Nilai octal : \", octal)\n",
    "print(\"Nilai hexa : \", hexa)\n",
    "\n",
    "print(\"Nilai Biner dari \", desimal, \":\",bin(desimal))\n",
    "print(\"Nilai octal dari \", desimal, \":\",oct(desimal))\n",
    "print(\"Nilai Hexa dari \", desimal, \":\",hex(desimal))"
   ]
  },
  {
   "cell_type": "code",
   "execution_count": 10,
   "id": "363e5eb8",
   "metadata": {},
   "outputs": [
    {
     "name": "stdout",
     "output_type": "stream",
     "text": [
      "S\n",
      "8\n",
      "I\n"
     ]
    }
   ],
   "source": [
    "city = \"SUKABUMI\"\n",
    "length = len(city)\n",
    "print(city[0])\n",
    "print(length)\n",
    "print(city[length-1])"
   ]
  },
  {
   "cell_type": "code",
   "execution_count": 6,
   "id": "0268243b",
   "metadata": {},
   "outputs": [
    {
     "name": "stdout",
     "output_type": "stream",
     "text": [
      "['Bandung', 'Sukabumi', 'Bogor', 'Jakarta']\n",
      "Bandung\n",
      "Jakarta\n",
      "J\n",
      "a\n",
      "['Bali', 'Sukabumi', 'Bogor', 'Jakarta']\n",
      "('Sahla', 'Pirni', 'alaa')\n",
      "Pirni\n",
      "{'name': 'sahla', 'age': 20, 'address': {'street': 'kapanunggal', 'number': 21, 'province': 'Jawa Barat'}, 'isMarried': True, 'hobbies': ['tidur, nonton']}\n",
      "20\n",
      "Jawa Barat\n",
      "tidur, nonton\n",
      "[{'name': 'abay', 'age': 22, 'address': {'street': 'ParungKuda', 'number': 19, 'province': 'Jawa Barat'}, 'isMarried': True, 'hobbies': ['Badmnton, Volly']}, {'name': 'pirni', 'age': 20, 'address': {'street': 'cibadak', 'number': 20, 'province': 'Jawa Barat'}, 'isMarried': True, 'hobbies': ['Badmnton, Volly']}]\n",
      "Jawa Barat\n"
     ]
    }
   ],
   "source": [
    "#Tipe Data Collection\n",
    "cities = [\"Bandung\", \"Sukabumi\", \"Bogor\", \"Jakarta\"]\n",
    "lengthCities = len(cities)\n",
    "print(cities)\n",
    "print(cities [0])\n",
    "print(cities[lengthCities-1])\n",
    "print(cities[lengthCities-1][0])\n",
    "print(cities[lengthCities-1][len(cities[lengthCities-1])-1])\n",
    "cities [0] = \"Bali\"\n",
    "#Cities[5] = \"Malang\" akan menyebablan error out of range\n",
    "print(cities)\n",
    "\n",
    "names = (\"Sahla\", \"Pirni\", \"alaa\")\n",
    "print(names)\n",
    "print(names[1])\n",
    "#names[0] = \"Indah\" error immutable tuple\n",
    "\n",
    "studentData = {\n",
    "    \"name\" : \"sahla\",\n",
    "    \"age\" : 20,\n",
    "    \"address\" : {\n",
    "        \"street\" : \"kapanunggal\",\n",
    "        \"number\" : 21,\n",
    "        \"province\" : \"Jawa Barat\"\n",
    "    },\n",
    "    \"isMarried\" : True,\n",
    "    \"hobbies\" : [\"tidur, nonton\"]\n",
    "}\n",
    "\n",
    "print(studentData)\n",
    "print(studentData[\"age\"])\n",
    "print(studentData[\"address\"][\"province\"])\n",
    "print(studentData[\"hobbies\"][0])\n",
    "\n",
    "studentList = [\n",
    "    {\n",
    "    \"name\" : \"abay\",\n",
    "    \"age\" : 22,\n",
    "    \"address\" : {\n",
    "        \"street\" : \"ParungKuda\",\n",
    "        \"number\" : 19,\n",
    "        \"province\" : \"Jawa Barat\"\n",
    "    },\n",
    "    \"isMarried\" : True,\n",
    "    \"hobbies\" : [\"Badmnton, Volly\"]\n",
    "},\n",
    "    {\n",
    "    \"name\" : \"pirni\",\n",
    "    \"age\" : 20,\n",
    "    \"address\" : {\n",
    "        \"street\" : \"cibadak\",\n",
    "        \"number\" : 20,\n",
    "        \"province\" : \"Jawa Barat\"\n",
    "    },\n",
    "    \"isMarried\" : True,\n",
    "    \"hobbies\" : [\"Badmnton, Volly\"]\n",
    "}\n",
    "]\n",
    "print(studentList)\n",
    "print(studentList[1][\"address\"][\"province\"])"
   ]
  },
  {
   "cell_type": "code",
   "execution_count": 19,
   "id": "b74f3df8",
   "metadata": {},
   "outputs": [
    {
     "name": "stdout",
     "output_type": "stream",
     "text": [
      "{'Name': 'Andi', 'Age': 30, 'status': True}\n",
      "{'Name': 'Rudi', 'Address': 'Bogor'}\n",
      "{'Name': 'Tiger', 'Type': 'Mamalia'}\n",
      "{'Name': 'crocodile', 'Type': 'Reptile'}\n",
      "{'vehicle': 'car', 'Brand': 'BMW', 'cc': 2500}\n"
     ]
    }
   ],
   "source": [
    "#konversi dictionary\n",
    "\n",
    "list_list = [[\"Name\",\"Andi\"],[\"Age\",30],[\"status\",True]]\n",
    "dictListStudent = dict(list_list)\n",
    "print(dictListStudent)\n",
    "\n",
    "list_tuple = [(\"Name\",\"Rudi\"),(\"Address\",\"Bogor\")]\n",
    "dictTupleStudent = dict(list_tuple)\n",
    "print(dictTupleStudent)\n",
    "\n",
    "tuple_list = ([\"Name\",\"Tiger\"],[\"Type\",\"Mamalia\"])\n",
    "dictListAnimal = dict(tuple_list)\n",
    "print(dictListAnimal)\n",
    "\n",
    "tuple_tuple = ((\"Name\",\"crocodile\"),(\"Type\",\"Reptile\"))\n",
    "dictTupleAnimal = dict(tuple_tuple)\n",
    "print(dictTupleAnimal)\n",
    "\n",
    "keys = [\"vehicle\",\"Brand\",\"cc\"]\n",
    "values = [\"car\",\"BMW\",2500]\n",
    "car = dict(zip(keys,values))\n",
    "print(car)"
   ]
  }
 ],
 "metadata": {
  "kernelspec": {
   "display_name": "Python 3 (ipykernel)",
   "language": "python",
   "name": "python3"
  },
  "language_info": {
   "codemirror_mode": {
    "name": "ipython",
    "version": 3
   },
   "file_extension": ".py",
   "mimetype": "text/x-python",
   "name": "python",
   "nbconvert_exporter": "python",
   "pygments_lexer": "ipython3",
   "version": "3.9.12"
  }
 },
 "nbformat": 4,
 "nbformat_minor": 5
}
