{
 "cells": [
  {
   "cell_type": "code",
   "execution_count": 3,
   "id": "512842d9-dd26-44ac-a4f0-16f96903cf0d",
   "metadata": {},
   "outputs": [
    {
     "name": "stdout",
     "output_type": "stream",
     "text": [
      "60\n",
      "8\n",
      "24\n"
     ]
    }
   ],
   "source": [
    "import aritmathic.math as m\n",
    "\n",
    "print(m.add(10,20,30))\n",
    "print(m.pow(2,3))\n",
    "print(m.multiply(1,2,3,4))"
   ]
  },
  {
   "cell_type": "code",
   "execution_count": 31,
   "id": "d0ca4413-6223-4dda-b175-9563902f4d58",
   "metadata": {},
   "outputs": [],
   "source": [
    "import convert.convert as c"
   ]
  },
  {
   "cell_type": "code",
   "execution_count": 33,
   "id": "4b3d4f03-c8d1-4cff-9ae2-9736005fcbf4",
   "metadata": {},
   "outputs": [
    {
     "name": "stdin",
     "output_type": "stream",
     "text": [
      "Isikan Panjang (cm): 100\n"
     ]
    },
    {
     "name": "stdout",
     "output_type": "stream",
     "text": [
      "Panjang Dalam Meter : 1.0 Meter\n"
     ]
    }
   ],
   "source": [
    "from convert.convert import cmToMeter as cm\n",
    "\n",
    "panjang = int(input(\"Isikan Panjang (cm):\"))\n",
    "print(f\"Panjang Dalam Meter : {cm(panjang)}\")"
   ]
  },
  {
   "cell_type": "code",
   "execution_count": 40,
   "id": "be8a44f8-4774-4222-b2a5-1b86f64c298b",
   "metadata": {},
   "outputs": [],
   "source": [
    "import bilangan.bilangan as b"
   ]
  },
  {
   "cell_type": "code",
   "execution_count": null,
   "id": "b6b03caf-0839-4fe2-8422-f191c36373ba",
   "metadata": {},
   "outputs": [
    {
     "name": "stdout",
     "output_type": "stream",
     "text": [
      "\n",
      "    1. Aritmatika\n",
      "    2. Convert\n",
      "    3. Bilangan\n",
      "    4. Exit\n",
      "    \n"
     ]
    }
   ],
   "source": [
    "def menuUtama():\n",
    "    print(\"\"\"\n",
    "    1. Aritmatika\n",
    "    2. Convert\n",
    "    3. Bilangan\n",
    "    4. Exit\n",
    "    \"\"\")\n",
    "\n",
    "def menuAritmatika():\n",
    "    print(\"\"\"\n",
    "    1. Add\n",
    "    2. Pow\n",
    "    3. Multiply\n",
    "    \"\"\")\n",
    "\n",
    "def menuConvert():\n",
    "    print(\"\"\"\n",
    "    1. cm To Meter\n",
    "    2. Meter To Cm\n",
    "    \"\"\")\n",
    "\n",
    "def menuBilangan():\n",
    "    print(\"\"\"\n",
    "    1. desimal Ke Biner\n",
    "    2. desimal Ke Oktal\n",
    "    3. desimal ke Hexadesimal\n",
    "    \"\"\")\n",
    "\n",
    "while True:\n",
    "    menuUtama()\n",
    "    pilihMenu = int(input(\"Isikan Pilihan:\"))\n",
    "    if pilihMenu==1:\n",
    "        menuAritmatika()\n",
    "        pilihAritmatika = int(input(\"Isikan Pilihan Aritmatika: \"))\n",
    "        b1 = int(input(\"Isikan bilangan 1 : \"))\n",
    "        b2 = int(input(\"Isikan bilangan 2 : \"))\n",
    "        if pilihAritmatika==1:\n",
    "            print(m.add(b1,b2))\n",
    "        elif pilihAritmatika==2:\n",
    "            print(m.pow(b1,b2))\n",
    "        elif pilihAritmatika==3:\n",
    "            print(m.multiply(b1,b2))\n",
    "            break\n",
    "        \n",
    "    elif pilihMenu==2:\n",
    "        menuConvert()\n",
    "        pilihConvert = int(input(\"Isikan Pilihan Convert: \"))\n",
    "        p = int(input(\"Isikan Panjang : \"))\n",
    "        if pilihConvert==1:\n",
    "            print(c.cmToMeter(p))\n",
    "        elif pilihConvert==2:\n",
    "            print(c.meterToCm(p))\n",
    "            break\n",
    "            \n",
    "    elif pilihMenu==3:\n",
    "        menuBilangan()\n",
    "        pilihBilangan = int(input(\"Isikan Pilihan Ubah Bilangan: \"))\n",
    "        n = int(input(\"Isikan angka desimal : \"))\n",
    "        if pilihBilangan==1:\n",
    "            print(b.desimalToBiner(n))\n",
    "        elif pilihBilangan==2:\n",
    "            print(b.desimalToOktal(n))\n",
    "        elif pilihBilangan==3:\n",
    "            print(b.desimalToHexadesimal(n))\n",
    "            break\n",
    "\n",
    "    elif pilihMenu==4:\n",
    "        print(\"Thank You!!\")\n",
    "        break \n"
   ]
  },
  {
   "cell_type": "code",
   "execution_count": null,
   "id": "1d9f98a1-7938-4366-9ac6-127957272cef",
   "metadata": {},
   "outputs": [],
   "source": []
  }
 ],
 "metadata": {
  "kernelspec": {
   "display_name": "Python [conda env:base] *",
   "language": "python",
   "name": "conda-base-py"
  },
  "language_info": {
   "codemirror_mode": {
    "name": "ipython",
    "version": 3
   },
   "file_extension": ".py",
   "mimetype": "text/x-python",
   "name": "python",
   "nbconvert_exporter": "python",
   "pygments_lexer": "ipython3",
   "version": "3.12.7"
  }
 },
 "nbformat": 4,
 "nbformat_minor": 5
}
