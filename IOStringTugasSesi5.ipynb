{
 "cells": [
  {
   "cell_type": "code",
   "execution_count": 5,
   "id": "d229587f-1a50-410e-aa88-ac911ed146ee",
   "metadata": {},
   "outputs": [
    {
     "name": "stdin",
     "output_type": "stream",
     "text": [
      "Masukkan Nama: Neng Sahla Nurul Fauziah\n",
      "Masukkan TTL: Sukabumi,25 Agustus 2005\n",
      "Masukkan Alamat: Gunungendut,Kalapanunggal\n",
      "Masukkan NIM: 20240040130\n",
      "Masukkan Prodi: Teknik Informatika\n",
      "Masukkan Universitas: Nusa Putra University\n"
     ]
    },
    {
     "name": "stdout",
     "output_type": "stream",
     "text": [
      "\n",
      "======BIODATA======\n",
      "Nama:Neng Sahla Nurul Fauziah\n",
      "TTL:Sukabumi,25 Agustus 2005\n",
      "Alamat:Gunungendut,Kalapanunggal\n",
      "NIM:20240040130\n",
      "Prodi:Teknik Informatika\n",
      "Universitas:Nusa Putra University\n"
     ]
    }
   ],
   "source": [
    "nama = input(\"Masukkan Nama:\")\n",
    "TTL = input(\"Masukkan TTL:\")\n",
    "Alamat = input(\"Masukkan Alamat:\")\n",
    "NIM = input(\"Masukkan NIM:\")\n",
    "Prodi = input(\"Masukkan Prodi:\")\n",
    "Universitas = input(\"Masukkan Universitas:\")\n",
    "print()\n",
    "print(\"======BIODATA======\")\n",
    "print(\"Nama:{}\".format(nama))\n",
    "print(\"TTL:{}\".format(TTL))\n",
    "print(\"Alamat:{}\".format(Alamat))\n",
    "print(\"NIM:{}\".format(NIM))\n",
    "print(\"Prodi:{}\".format(Prodi))\n",
    "print(\"Universitas:{}\".format(Universitas))"
   ]
  },
  {
   "cell_type": "code",
   "execution_count": 11,
   "id": "8a489975-824b-4a67-95a5-c6cc296ac476",
   "metadata": {},
   "outputs": [
    {
     "name": "stdin",
     "output_type": "stream",
     "text": [
      "Masukkan Kalimat: UNIVERSITAS NUSA PUTRA SUKABUMI\n"
     ]
    },
    {
     "name": "stdout",
     "output_type": "stream",
     "text": [
      "a. putra nusa\n",
      "b. NIVERSITAS NSA PTRA SKABMI\n",
      "c. SUKABUMI PUTRA NUSA UNIVERSITAS\n",
      "d. UNPS\n",
      "e. TAS SAPU BUMI\n"
     ]
    }
   ],
   "source": [
    "#UNIVERSITAS NUSA PUTRA SUKABUMI\n",
    "teks = input(\"Masukkan Kalimat:\")\n",
    "kata = teks.split()\n",
    "\n",
    "# a. putra nusa\n",
    "Output_a = \"{} {}\".format(kata[2].lower(), kata[1].lower())\n",
    "print(\"a.\", Output_a)\n",
    "\n",
    "# b. NIVERSITAS NSA PTRA SKABMI\n",
    "Output_b = \"{} {}{} {}{} {}{}{}\".format(teks[1:11], teks[12],teks[14:16], teks[17],teks[19:22], teks[23],teks[25:28],teks[29:])\n",
    "print(\"b.\", Output_b)\n",
    "\n",
    "# c. SUKABUMI PUTRA NUSA UNIVERSITAS\n",
    "Output_c = \"{} {} {} {}\".format(kata[3], kata[2], kata[1], kata[0])\n",
    "print(\"c.\", Output_c)\n",
    "\n",
    "# d. UNPS\n",
    "Output_d = \"{}{}{}{}\".format(teks[0], teks[12], teks[17], teks[23])\n",
    "print(\"d.\", Output_d)\n",
    "\n",
    "# e. TAS SAPU BUMI\n",
    "Output_e = \"{} {}{} {}\".format(teks[8:11], teks[14:16], teks[17:19], teks[27:])\n",
    "print(\"e.\", Output_e)"
   ]
  }
 ],
 "metadata": {
  "kernelspec": {
   "display_name": "Python [conda env:base] *",
   "language": "python",
   "name": "conda-base-py"
  },
  "language_info": {
   "codemirror_mode": {
    "name": "ipython",
    "version": 3
   },
   "file_extension": ".py",
   "mimetype": "text/x-python",
   "name": "python",
   "nbconvert_exporter": "python",
   "pygments_lexer": "ipython3",
   "version": "3.12.7"
  }
 },
 "nbformat": 4,
 "nbformat_minor": 5
}
