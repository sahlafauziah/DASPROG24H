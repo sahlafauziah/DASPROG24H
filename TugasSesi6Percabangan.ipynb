{
 "cells": [
  {
   "cell_type": "code",
   "execution_count": 5,
   "id": "2b8b0e7b-3b75-4cf1-a6e5-f16a67bcc325",
   "metadata": {},
   "outputs": [
    {
     "name": "stdin",
     "output_type": "stream",
     "text": [
      "masukan usia anda :  11\n"
     ]
    },
    {
     "name": "stdout",
     "output_type": "stream",
     "text": [
      "usia anda 11 tahun adalah usia anak-anak\n"
     ]
    }
   ],
   "source": [
    "#Buatlah program yang meminta pengguna memasukkan usia seseorang, \n",
    "#lalu tentukan apakah dia anak-anak (0-12 tahun), remaja (13-17 tahun), dewasa (18-59 tahun), atau lansia (60 tahun ke atas).\n",
    "\n",
    "usia = int(input(\"masukan usia anda : \"))\n",
    "\n",
    "if 0 <= usia <= 12 :\n",
    "    print(f\"usia anda {usia} tahun adalah usia anak-anak\")\n",
    "elif 13 <= usia <=17 : \n",
    "    print(f\"usia anda {usia} tahun adalah usia Remaja \")\n",
    "elif 18 <= usia <=59 : \n",
    "    print(f\"usia anda {usia} tahun adalah usia Dewasa \")\n",
    "elif usia >= 60 :\n",
    "    print(f\"usia anda {usia} tahun adalah usia lansia \") \n",
    "else :\n",
    "    print(\"usia tidak bisa negatif :D \")"
   ]
  },
  {
   "cell_type": "code",
   "execution_count": 7,
   "id": "c2a07965-af6a-4604-b647-d7535f8b4062",
   "metadata": {},
   "outputs": [
    {
     "name": "stdin",
     "output_type": "stream",
     "text": [
      "Isikan Umur Tiket 1: 23\n",
      "Isikan Umur Tiket 2:  45\n",
      "Isikan Umur Tiket 3:  10\n"
     ]
    },
    {
     "name": "stdout",
     "output_type": "stream",
     "text": [
      "Total harga yang harus dibayar: Rp 60000\n"
     ]
    }
   ],
   "source": [
    "## Sebuah taman hiburan memiliki aturan harga tiket berdasarkan usia:\n",
    "#Anak-anak (0-12 tahun): Rp 10.000\n",
    "#Remaja (13-17 tahun): Rp 15.000\n",
    "#Dewasa (18-59 tahun): Rp 25.000\n",
    "#Lansia (60 tahun ke atas): Gratis\n",
    "#Buat program untuk menentukan harga tiket berdasarkan usia yang dimasukkan pengguna dan total harga yang harus dibayar, \n",
    "#jika terdapat 3 input seperti berikut ini\n",
    "\n",
    "tiket1 = int(input(\"Isikan Umur Tiket 1:\"))\n",
    "tiket2 = int(input(\"Isikan Umur Tiket 2: \"))\n",
    "tiket3 = int(input(\"Isikan Umur Tiket 3: \"))\n",
    "\n",
    "\n",
    "#tiket1\n",
    "if tiket1 < 0:\n",
    "    print(\"Usia tidak bisa negatif :(.\")\n",
    "else:\n",
    "    if tiket1 <= 12:\n",
    "        harga1 = 10000\n",
    "    elif 13 <= tiket1 <= 17:\n",
    "        harga1 = 15000\n",
    "    elif 18 <= tiket1 <= 59:\n",
    "        harga1 = 25000\n",
    "    else:\n",
    "        harga1 = 0\n",
    "\n",
    "#tiket2    \n",
    "    if tiket2 < 0:\n",
    "        print(\"Usia tidak bisa negatif :(.\")\n",
    "    else:\n",
    "        if tiket2 <= 12:\n",
    "            harga2 = 10000\n",
    "        elif 13 <= tiket2 <= 17:\n",
    "            harga2 = 15000\n",
    "        elif 18 <= tiket2 <= 59:\n",
    "            harga2 = 25000\n",
    "        else:\n",
    "            harga2 = 0\n",
    "\n",
    "#tiket3\n",
    "        if tiket3 < 0:\n",
    "            print(\"Usia tidak bisa negatif :(.\")\n",
    "        else:\n",
    "            if tiket3 <= 12:\n",
    "                harga3 = 10000\n",
    "            elif 13 <= tiket3 <= 17:\n",
    "                harga3 = 15000\n",
    "            elif 18 <= tiket3 <= 59:\n",
    "                harga3 = 25000\n",
    "            else:\n",
    "                harga3 = 0\n",
    "\n",
    "            totalHarga = harga1 + harga2 + harga3\n",
    "            print(f\"Total harga yang harus dibayar: Rp {totalHarga}\")"
   ]
  },
  {
   "cell_type": "code",
   "execution_count": 9,
   "id": "278f2e3b-558d-4ca6-8a12-d831f830abb1",
   "metadata": {},
   "outputs": [
    {
     "name": "stdin",
     "output_type": "stream",
     "text": [
      "Masukkan harga makanan: Rp  40000\n",
      "Masukkan usia pengunjung:  60\n"
     ]
    },
    {
     "name": "stdout",
     "output_type": "stream",
     "text": [
      "Harga awal: Rp 40000.0\n",
      "Diskon: 30.0%\n",
      "Harga yang harus dibayar setelah diskon: Rp 28000.0\n"
     ]
    }
   ],
   "source": [
    "#Sebuah restoran memiliki diskon khusus: Anak-anak (0-12 tahun) diskon 50% Lansia (60 tahun ke atas) diskon 30% \n",
    "#Selain itu, tidak ada diskon Buat program untuk menghitung harga yang harus dibayar setelah diskon diberikan.\n",
    "\n",
    "harga_awal = float(input(\"Masukkan harga makanan: Rp \"))\n",
    "usia = int(input(\"Masukkan usia pengunjung: \"))\n",
    "\n",
    "if usia < 0:\n",
    "    print(\"Usia tidak bisa negatif :( .\")\n",
    "else:\n",
    "    if usia <= 12:\n",
    "        diskon = 0.50 \n",
    "    elif usia >= 60:\n",
    "        diskon = 0.30 \n",
    "    else:\n",
    "        diskon = 0.0  \n",
    "\n",
    "    harga_setelah_diskon = harga_awal * (1 - diskon)\n",
    "\n",
    "    print(f\"Harga awal: Rp {harga_awal}\")\n",
    "    print(f\"Diskon: {diskon * 100}%\")\n",
    "    print(f\"Harga yang harus dibayar setelah diskon: Rp {harga_setelah_diskon:}\")"
   ]
  },
  {
   "cell_type": "code",
   "execution_count": 11,
   "id": "f967b61f-04ec-431e-8e85-0c7b8bba7597",
   "metadata": {},
   "outputs": [
    {
     "name": "stdin",
     "output_type": "stream",
     "text": [
      "Masukan Nilai Rapot anda :  90\n",
      "masukan penghasilan anda :  6000000\n"
     ]
    },
    {
     "name": "stdout",
     "output_type": "stream",
     "text": [
      "nilai anda 90 dan penghasilan orang tua 6000000 anda berhak mendapatkan beasiswa 50 % \n"
     ]
    }
   ],
   "source": [
    "#Program beasiswa:\n",
    "#Jika nilai rapor ≥ 90 dan penghasilan orang tua < Rp 5.000.000 → Beasiswa Penuh\n",
    "#Jika nilai rapor ≥ 85 dan penghasilan orang tua < Rp 8.000.000 → Beasiswa 50%\n",
    "#Jika tidak memenuhi syarat di atas → Tidak mendapatkan beasiswa\n",
    "\n",
    "nilai_rapot = int(input(\"Masukan Nilai Rapot anda : \"))\n",
    "Penghasilan_ortu = int(input(\"masukan penghasilan anda : \"))\n",
    "\n",
    "if nilai_rapot < 0 or Penghasilan_ortu <0 :\n",
    "    print(\"inputan tidak boleh negatif(-) :(\")\n",
    "elif nilai_rapot > 100 : \n",
    "    print(\"nilai tidak bisa lebih dari 100\")\n",
    "else :\n",
    "    if nilai_rapot >= 90 and Penghasilan_ortu <=5_000_000 :\n",
    "        print(f\"nilai anda {nilai_rapot} dan penghasilan orang tua {Penghasilan_ortu} anda berhak mendapatkan beasiswa penuh\")\n",
    "    elif nilai_rapot >=85 and Penghasilan_ortu <= 8_000_000 :\n",
    "        print(f\"nilai anda {nilai_rapot} dan penghasilan orang tua {Penghasilan_ortu} anda berhak mendapatkan beasiswa 50 % \")\n",
    "    else :\n",
    "        print(f\"nilai anda {nilai_rapot} dan penghasilan orang tua {Penghasilan_ortu} anda tidak mendapatkan beasiswa \")"
   ]
  },
  {
   "cell_type": "code",
   "execution_count": 13,
   "id": "1dc5df44-6a92-4e38-8e61-1b4cd04f38f3",
   "metadata": {},
   "outputs": [
    {
     "name": "stdin",
     "output_type": "stream",
     "text": [
      "Masukkan usia Anda:  20\n",
      "Masukkan kategori film (Semua Umur, Remaja, Dewasa):  semua umur\n"
     ]
    },
    {
     "name": "stdout",
     "output_type": "stream",
     "text": [
      "Umur anda 20 tahun boleh menonton film semua umur.\n"
     ]
    }
   ],
   "source": [
    "## Suatu aplikasi streaming memiliki batasan usia:\n",
    "#Film Semua Umur: Bisa ditonton oleh siapa saja\n",
    "#Film Remaja: Hanya untuk usia ≥ 13 tahun\n",
    "#Film Dewasa: Hanya untuk usia ≥ 18 tahun\n",
    "#Buat program yang meminta input usia dan kategori film, lalu tentukan apakah seseorang boleh menonton film tersebut atau tidak.\n",
    "\n",
    "usia = int(input(\"Masukkan usia Anda: \"))\n",
    "\n",
    "if usia < 0:\n",
    "    print(\"Usia tidak bisa negatif.\")\n",
    "else:\n",
    "    kategori_film = input(\"Masukkan kategori film (Semua Umur, Remaja, Dewasa): \").strip().lower()\n",
    "\n",
    "    if kategori_film == \"semua umur\":\n",
    "        print(f\"Umur anda {usia} tahun boleh menonton film semua umur.\")\n",
    "    elif kategori_film == \"remaja\":\n",
    "        if usia >= 13:\n",
    "            print(f\"Umur anda {usia} tahun boleh menonton film remaja.\")\n",
    "        else:\n",
    "            print(f\"Umur anda {usia} tahun tidak boleh menonton film remaja.\")\n",
    "    elif kategori_film == \"dewasa\":\n",
    "        if usia >= 18:\n",
    "            print(f\"Umur anda {usia} tahun boleh menonton film dewasa.\")\n",
    "        else:\n",
    "            print(f\"Umur anda {usia} tahun tidak boleh menonton film dewasa.\")\n",
    "    else:\n",
    "        print(\"Kategori film tidak valid. Silakan masukkan 'Semua Umur', 'Remaja', atau 'Dewasa'.\")"
   ]
  },
  {
   "cell_type": "code",
   "execution_count": 15,
   "id": "f4dd63c2-c7c6-4fde-baab-a0c3aa0939da",
   "metadata": {},
   "outputs": [
    {
     "name": "stdin",
     "output_type": "stream",
     "text": [
      "Masukkan total belanja Anda: Rp  9000000\n"
     ]
    },
    {
     "name": "stdout",
     "output_type": "stream",
     "text": [
      "Total belanja: Rp 9000000.00\n",
      "Diskon: 20%\n",
      "Harga akhir setelah diskon: Rp 7200000.00\n"
     ]
    }
   ],
   "source": [
    "#Sebuah toko memberikan diskon berdasarkan jumlah pembelian:\n",
    "#Jika total belanja ≥ Rp 500.000 → Diskon 20%\n",
    "#Jika total belanja ≥ Rp 250.000 → Diskon 10%\n",
    "#Jika total belanja < Rp 250.000 → Tidak ada diskon\n",
    "#Hitung harga akhir setelah diskon.\n",
    "\n",
    "total_belanja = float(input(\"Masukkan total belanja Anda: Rp \"))\n",
    "\n",
    "if total_belanja < 0:\n",
    "    print(\"Total belanja tidak boleh negatif.\")\n",
    "else:\n",
    "    if total_belanja >= 500_000:\n",
    "        diskon = 0.20  \n",
    "    elif total_belanja >= 250_000:\n",
    "        diskon = 0.10 \n",
    "    else:\n",
    "        diskon = 0.0\n",
    "\n",
    "    harga_akhir = total_belanja * (1 - diskon)\n",
    "\n",
    "    \n",
    "    print(f\"Total belanja: Rp {total_belanja:.2f}\")\n",
    "    print(f\"Diskon: {diskon * 100:.0f}%\")\n",
    "    print(f\"Harga akhir setelah diskon: Rp {harga_akhir:.2f}\")"
   ]
  },
  {
   "cell_type": "code",
   "execution_count": 21,
   "id": "0c27bfc0-735d-4c17-bd49-5a904c13fcca",
   "metadata": {},
   "outputs": [
    {
     "name": "stdin",
     "output_type": "stream",
     "text": [
      "Masukkan jenis kendaraan (mobil/motor):  motor\n",
      "Masukkan durasi parkir (dalam jam):  3\n"
     ]
    },
    {
     "name": "stdout",
     "output_type": "stream",
     "text": [
      "Total biaya parkir untuk motor selama 3 jam: Rp 6000\n"
     ]
    }
   ],
   "source": [
    "#Program parkir:\n",
    "#Mobil: Rp 5.000 per jam\n",
    "#Motor: Rp 2.000 per jam\n",
    "#Jika parkir lebih dari 5 jam, ada biaya tambahan Rp 10.000\n",
    "#Hitung total biaya parkir berdasarkan jenis kendaraan dan durasi parkir.\n",
    "\n",
    "jenis_kendaraan = input(\"Masukkan jenis kendaraan (mobil/motor): \").strip().lower()\n",
    "durasi_parkir = int(input(\"Masukkan durasi parkir (dalam jam): \"))\n",
    "\n",
    "if durasi_parkir < 0:\n",
    "    print(\"Durasi parkir tidak boleh negatif.\")\n",
    "else:\n",
    "    if jenis_kendaraan == \"mobil\":\n",
    "        tarif_per_jam = 5000\n",
    "    elif jenis_kendaraan == \"motor\":\n",
    "        tarif_per_jam = 2000\n",
    "    else:\n",
    "        print(\"Silakan masukkan 'mobil' atau 'motor'.\")\n",
    "        tarif_per_jam = None\n",
    "\n",
    "    if tarif_per_jam is not None:\n",
    "        \n",
    "        total_biaya = durasi_parkir * tarif_per_jam\n",
    "\n",
    "        if durasi_parkir > 5:\n",
    "            total_biaya += 10000\n",
    "\n",
    "        print(f\"Total biaya parkir untuk {jenis_kendaraan} selama {durasi_parkir} jam: Rp {total_biaya}\")"
   ]
  },
  {
   "cell_type": "code",
   "execution_count": 17,
   "id": "06494c85-3bdf-4a51-8e7d-b198b650aa2d",
   "metadata": {},
   "outputs": [
    {
     "name": "stdin",
     "output_type": "stream",
     "text": [
      "Masukkan jarak perjalanan (dalam km):  20\n"
     ]
    },
    {
     "name": "stdout",
     "output_type": "stream",
     "text": [
      "Total tarif perjalanan untuk jarak 20 km: Rp 60000.00\n"
     ]
    }
   ],
   "source": [
    "## Aplikasi transportasi online memiliki tarif sebagai berikut:\n",
    "#Jika jarak ≤ 5 km → Rp 5.000/km\n",
    "#Jika jarak 6-10 km → Rp 4.000/km\n",
    "#Jika jarak > 10 km → Rp 3.000/km\n",
    "#Hitung tarif perjalanan berdasarkan jarak yang dimasukkan pengguna.\n",
    "\n",
    "jarak = int(input(\"Masukkan jarak perjalanan (dalam km): \"))\n",
    "\n",
    "if jarak < 0:\n",
    "    print(\"Jarak tidak boleh negatif.\")\n",
    "else:\n",
    "    if jarak <= 5:\n",
    "        tarif_per_km = 5_000  \n",
    "    elif 6 <= jarak <= 10:\n",
    "        tarif_per_km = 4_000  \n",
    "    else:\n",
    "        tarif_per_km = 3_000 \n",
    "\n",
    "    total_tarif = jarak * tarif_per_km\n",
    "\n",
    "    print(f\"Total tarif perjalanan untuk jarak {jarak} km: Rp {total_tarif:.2f}\")"
   ]
  },
  {
   "cell_type": "code",
   "execution_count": null,
   "id": "c1394bdb-e829-427c-b349-968cd354cb6f",
   "metadata": {},
   "outputs": [],
   "source": [
    "#Buatlah sebuah sistem penerimaan calon programmer yang akan menerima dua nilai ( nilai coding dan nilai interview). Untuk penilaian test coding skala penilaian yang diberikan dimulai dari 0 hingga 100 dengan sistem penilaian:\n",
    "#ketika seseorang mendapatkan nilai lebih dari 80 maka peserta tersebut akan mendapatkan hasil tes LOLOS\n",
    "#ketika sesorang mendapatkan nilai diantara 60 hingga 80 maka peserta tersebut mendapatkan hasil tes DIPERTIMBANGKAN\n",
    "#ketika seseorang mendapatkan nilai dibawah 60 maka peserta tersebut mendapatkan hasil tes GAGAL.\n",
    "#Sedangkan untuk penilaian interview adalah ketika nilai yang diberikan kepada seseorang tersebut adalah \"A\" atau \"B\" maka peserta tersebut dianggap LOLOS interview\n",
    "#selain kedua nilai tersebut maka peserta dianggap GAGAL tes interview.\n",
    "#Ketika calon programmer mendapatkan nilai coding LOLOS atau DIPERTIMBANGKAN dan juga LOLOS test interview maka tampilkanlah pesan \"Selamat Kamu Berhasil Menjadi Calon Programmer\". Jika tidak maka tampilkanlah pesan \"Maaf Kamu Belum Berhasil Menjadi Calon Programmer\"\n",
    "\n",
    "nilai_coding = float(input(\"Masukkan nilai coding (0-100): \"))\n",
    "nilai_interview = input(\"Masukkan nilai interview (A/B/C/D): \").strip().upper()\n",
    "\n",
    "if nilai_coding < 0 or nilai_coding > 100:\n",
    "    print(\"Nilai coding harus antara 0 hingga 100.\")\n",
    "else:\n",
    "    # hasil tes coding\n",
    "    if nilai_coding > 80:\n",
    "        hasil_coding = \"LOLOS\"\n",
    "    elif 60 <= nilai_coding <= 80:\n",
    "        hasil_coding = \"DIPERTIMBANGKAN\"\n",
    "    else:\n",
    "        hasil_coding = \"GAGAL\"\n",
    "\n",
    "    # hasil tes interview\n",
    "    if nilai_interview in [\"A\", \"B\"]:\n",
    "        hasil_interview = \"LOLOS\"\n",
    "    elif nilai_interview in [\"C\", \"D\"]:\n",
    "        hasil_interview = \"GAGAL\"\n",
    "    else:\n",
    "        print(\"Input salah! Nilai interview harus A, B, C, atau D.\")\n",
    "        hasil_interview = None  \n",
    "\n",
    "    # kelulusan keseluruhan\n",
    "    if hasil_interview is not None:\n",
    "        if (hasil_coding == \"LOLOS\" or hasil_coding == \"DIPERTIMBANGKAN\") and hasil_interview == \"LOLOS\":\n",
    "            print(\"Selamat Kamu Berhasil Menjadi Calon Programmer\")\n",
    "        else:\n",
    "            print(\"Maaf Kamu Belum Berhasil Menjadi Calon Programmer\")"
   ]
  },
  {
   "cell_type": "code",
   "execution_count": 19,
   "id": "385c06ed-d6c3-4e0a-b375-186ac91b7e3d",
   "metadata": {},
   "outputs": [
    {
     "name": "stdin",
     "output_type": "stream",
     "text": [
      "Masukkan nomor punggung pemain:  07\n"
     ]
    },
    {
     "name": "stdout",
     "output_type": "stream",
     "text": [
      "Nomor punggung 7 dapat digunakan untuk posisi: defender.\n"
     ]
    }
   ],
   "source": [
    "#Sebuah klub sepak bola “PERSEGI FC” mempunyai aturan dalam memberikan nomor punggung bagi para pemainnya. Para pemain diperbolehkan mempunyai posisi lebih dari 1. Berikut adalah beberapa aturannya:\n",
    "#Untuk nomor punggung genap, digunakan untuk posisi “target attacker”\n",
    "#Untuk nomor punggung genap antara 50 – 100, digunakan untuk pemain yang “berhak dipilih menjadi capten team”\n",
    "#Untuk nomor punggung ganjil, digunakan untuk posisi “defender”\n",
    "#Untuk nomor punggung ganjil lebih dari 90, digunakan untuk posisi “Playmaker”\n",
    "#Untuk nomor punggung ganjil kelipatan dari 3 dan 5, digunakan untuk posisi “keeper”\n",
    "#Buatlah program untuk melakukan pengecekan sebuah nomor punggung dapat berfungsi sebagai posisi apa saja.\n",
    "\n",
    "nomor_punggung = int(input(\"Masukkan nomor punggung pemain: \"))\n",
    "\n",
    "if nomor_punggung < 1:\n",
    "    print(\"Nomor punggung harus lebih dari 0.\")\n",
    "else:\n",
    "    posisi = []\n",
    "\n",
    "    #nomor punggung genap\n",
    "    if nomor_punggung % 2 == 0:\n",
    "        posisi.append(\"target attacker\")\n",
    "        if 50 <= nomor_punggung <= 100:\n",
    "            posisi.append(\"capten team\")\n",
    "\n",
    "    #nomor punggung ganjil\n",
    "    if nomor_punggung % 2 != 0:\n",
    "        posisi.append(\"defender\")\n",
    "        if nomor_punggung > 90:\n",
    "            posisi.append(\"playmaker\")\n",
    "        if nomor_punggung % 3 == 0 and nomor_punggung % 5 == 0:\n",
    "            posisi.append(\"keeper\")\n",
    "\n",
    "    #hasil\n",
    "    if posisi:\n",
    "        print(f\"Nomor punggung {nomor_punggung} dapat digunakan untuk posisi: {', '.join(posisi)}.\")\n",
    "    else:\n",
    "        print(f\"Nomor punggung {nomor_punggung} tidak memenuhi syarat untuk posisi manapun.\")"
   ]
  }
 ],
 "metadata": {
  "kernelspec": {
   "display_name": "Python [conda env:base] *",
   "language": "python",
   "name": "conda-base-py"
  },
  "language_info": {
   "codemirror_mode": {
    "name": "ipython",
    "version": 3
   },
   "file_extension": ".py",
   "mimetype": "text/x-python",
   "name": "python",
   "nbconvert_exporter": "python",
   "pygments_lexer": "ipython3",
   "version": "3.12.7"
  }
 },
 "nbformat": 4,
 "nbformat_minor": 5
}
