{
 "cells": [
  {
   "cell_type": "code",
   "execution_count": 3,
   "id": "9741876b-93bd-4dfb-b49a-7ecc818d4b73",
   "metadata": {},
   "outputs": [
    {
     "name": "stdout",
     "output_type": "stream",
     "text": [
      "Buah : Apple\n",
      "Buah : Banana\n",
      "Buah : Watermelon\n",
      "Buah : Pineapple\n",
      "Looping Selesai!!\n"
     ]
    }
   ],
   "source": [
    "#for sama while \n",
    "#collections -> list, tuple, dictionary, string\n",
    "fruits = [\"Apple\",\"Banana\",\"Watermelon\",\"Pineapple\"]\n",
    "\n",
    "for fruit in fruits:\n",
    "    print(f\"Buah : {fruit}\")\n",
    "print(f\"Looping Selesai!!\")"
   ]
  },
  {
   "cell_type": "code",
   "execution_count": 9,
   "id": "66b5a245-1ea3-4d07-82e6-6fba55c2696e",
   "metadata": {},
   "outputs": [
    {
     "name": "stdout",
     "output_type": "stream",
     "text": [
      "NIlai rata-rata Pemrograman TI24H : 77.5\n",
      "Mahasiswa yang lulus sebanyak 4 orang\n",
      "Mahasiswa yang tidak lulus sebanyak 2 orang\n"
     ]
    }
   ],
   "source": [
    "#Implementasi, Mencari  nilai rata rata pemrograman dari kelkas TI 24H\n",
    "\n",
    "nilaiPemrograman = [80,90,100,60,65,70]\n",
    "#1. Mencari total --> didalam Looping \n",
    "#2. Membagi dengan jumlah data --> diluar \n",
    "total = 0\n",
    "lulus = 0\n",
    "for nilai in nilaiPemrograman:\n",
    "    if nilai >=70:\n",
    "        lulus +=1\n",
    "    total = total + nilai \n",
    "rata2 = total / len(nilaiPemrograman)\n",
    "print(f\"Nilai rata-rata Pemrograman TI24H : {rata2}\")\n",
    "print(f\"Mahasiswa yang lulus sebanyak {lulus} orang\")\n",
    "print(f\"Mahasiswa yang tidak lulus sebanyak {len(nilaiPemrograman)-lulus} orang\") "
   ]
  },
  {
   "cell_type": "code",
   "execution_count": 17,
   "id": "fa16b88b-c6eb-4b3e-803a-75ff8acb8a05",
   "metadata": {},
   "outputs": [
    {
     "name": "stdin",
     "output_type": "stream",
     "text": [
      "isikan nama kampus :  Universitas Nusa Putra\n"
     ]
    },
    {
     "name": "stdout",
     "output_type": "stream",
     "text": [
      "jumlah huruf vokal = 9 \n"
     ]
    }
   ],
   "source": [
    "#Hitunglah jumlah huruf vokal a,i,u,e,o\n",
    "#Nusa Putra\n",
    "listVokal = (\"a\",\"i\",\"u\",\"e\",\"o\")\n",
    "totalVokal = 0\n",
    "kampus = input(\"isikan nama kampus : \")\n",
    "for kar in kampus:\n",
    "    if kar.lower() in listVokal:\n",
    "        totalVokal +=1\n",
    "        \n",
    "print(f\"jumlah huruf vokal = {totalVokal} \")"
   ]
  },
  {
   "cell_type": "code",
   "execution_count": 19,
   "id": "2ac02ac6-b899-4fe6-a58c-2bd4e8133067",
   "metadata": {},
   "outputs": [
    {
     "name": "stdout",
     "output_type": "stream",
     "text": [
      "[1, 4, 9, 16, 25, 36]\n"
     ]
    }
   ],
   "source": [
    "#for -> list comprehension\n",
    "data = [1,2,3,4,5,6]\n",
    "pangkat = [x**2 for x in data]\n",
    "print(pangkat)"
   ]
  },
  {
   "cell_type": "code",
   "execution_count": 21,
   "id": "4b69eca6-9538-4146-bc9b-cc7c22a0cebe",
   "metadata": {},
   "outputs": [
    {
     "name": "stdout",
     "output_type": "stream",
     "text": [
      "Indeks 0 : jan \n",
      "Indeks 1 : feb \n",
      "Indeks 2 : mar \n",
      "Indeks 3 : apr \n",
      "Indeks 4 : mei \n",
      "Indeks 5 : jun \n",
      "Indeks 6 : jul \n",
      "Indeks 7 : aug \n",
      "Indeks 8 : sep \n"
     ]
    }
   ],
   "source": [
    "#for -> enumeration\n",
    "month = [\"jan\",\"feb\",\"mar\",\"apr\",\"mei\",\"jun\",\"jul\",\"aug\",\"sep\"]\n",
    "\n",
    "for i,m in enumerate(month):\n",
    "    print(f\"Indeks {i} : {m} \")"
   ]
  },
  {
   "cell_type": "code",
   "execution_count": 29,
   "id": "3d228845-6d1f-4097-bf9a-cb3621067b71",
   "metadata": {},
   "outputs": [
    {
     "name": "stdout",
     "output_type": "stream",
     "text": [
      "jumlah kursi laki-laki = 4\n",
      "jumlah kursi laki-laki = 2\n"
     ]
    }
   ],
   "source": [
    "cinemaChair = [\"M\",\"W\",\"M\",\"M\",\"M\",\"W\"]\n",
    "#Hitunglah jumlah kursi laki-laki -> M\n",
    "#Hitunglah jumlah kursi perempuan -> W\n",
    "\n",
    "totalKursi = 0 \n",
    "for kursi in cinemaChair:\n",
    "    if kursi == \"M\" :\n",
    "        totalKursi +=1\n",
    "\n",
    "print(f\"jumlah kursi laki-laki = {totalKursi}\")\n",
    "print(f\"jumlah kursi laki-laki = {len(cinemaChair) - totalKursi}\")\n",
    "\n",
    "    \n"
   ]
  },
  {
   "cell_type": "code",
   "execution_count": 31,
   "id": "41314775-a6b0-4f67-bbe6-5ac75aec266c",
   "metadata": {},
   "outputs": [
    {
     "name": "stdout",
     "output_type": "stream",
     "text": [
      "jumlah kemungkinan penonton couple : 3\n"
     ]
    }
   ],
   "source": [
    "kursi = [\"L\",\"L\",\"P\",\"L\",\"P\",\"P\",\"P\"]\n",
    "#Hitunglah jumlah penonton bioskop yang kemungkinan couple\n",
    "totalCouple = 0\n",
    "for i,k in enumerate (kursi):\n",
    "    if i < len(kursi) -1:\n",
    "        if kursi[i] != kursi[i+1]:\n",
    "            totalCouple +=1\n",
    "\n",
    "print(f\"jumlah kemungkinan penonton couple : {totalCouple}\")\n",
    "\n",
    "\n"
   ]
  },
  {
   "cell_type": "code",
   "execution_count": 53,
   "id": "7b286182-4d0e-4673-878d-24d825c57063",
   "metadata": {},
   "outputs": [
    {
     "name": "stdout",
     "output_type": "stream",
     "text": [
      "0  1  2  3  4  5  6  7  8  9  \n",
      "5  6  7  8  9  10  11  12  13  14  15  \n",
      "10  20  30  40  50  60  70  80  90  100  \n",
      "10  -20  30  -40  50  -60  70  -80  90  -100  \n",
      "1  3  5  7  9  \n",
      "10  8  6  4  2  "
     ]
    }
   ],
   "source": [
    "#for -> range\n",
    "#mencari 0-9\n",
    "for i in range(10):\n",
    "    print(i, \" \",end='')\n",
    "\n",
    "print()\n",
    "#mencetak 5-15\n",
    "for j in range(5,16):\n",
    "    print(j,\" \",end='')\n",
    "print()\n",
    "#mencetak 10 20 30 40 50 ....100\n",
    "for k in range(1,11):\n",
    "    print(k * 10, \" \" , end='')\n",
    "\n",
    "print()\n",
    "#mencetak 10 -20 30 -40 50 -60 70 -80 90 -100\n",
    "tanda = 1\n",
    "for m in range(1,11):\n",
    "    print(m * 10 * tanda, \" \" , end='')\n",
    "    tanda *=-1\n",
    "print()\n",
    "#step\n",
    "for n in range(1,10,2):\n",
    "    print(n, \" \" ,end='')\n",
    "print()\n",
    "for p in range(10,1,-2):\n",
    "    print(p,\" \",end='')"
   ]
  },
  {
   "cell_type": "code",
   "execution_count": 59,
   "id": "efa27dcd-419f-4968-9a63-1c54464a1236",
   "metadata": {},
   "outputs": [
    {
     "name": "stdin",
     "output_type": "stream",
     "text": [
      "isikan bilangan :  5\n"
     ]
    },
    {
     "name": "stdout",
     "output_type": "stream",
     "text": [
      "5 ! = 120\n"
     ]
    }
   ],
   "source": [
    "#menghitung faktorial\n",
    "# 5 * 4 * 3 * 2 * 1 = 120\n",
    "# 4 * 3 * 2 * 1 = 24\n",
    "total = 1\n",
    "number = int(input(\"isikan bilangan : \" ))\n",
    "for i in range(1,number +1):\n",
    "    total *=i \n",
    "print(f\"{number} ! = {total}\")\n",
    "\n"
   ]
  },
  {
   "cell_type": "code",
   "execution_count": 65,
   "id": "c23fb6ce-f89b-4549-817e-5d837e1a7b34",
   "metadata": {},
   "outputs": [
    {
     "name": "stdin",
     "output_type": "stream",
     "text": [
      "isikan bilangan:  11\n"
     ]
    },
    {
     "name": "stdout",
     "output_type": "stream",
     "text": [
      "11 adalah Bil. bukan Prima\n"
     ]
    }
   ],
   "source": [
    "#menentukan bilangan prima atau bukan\n",
    "#bilangan prima adalah bilangan hanya bisa dibagi bilangan \n",
    "\n",
    "number = int(input(\"isikan bilangan: \"))\n",
    "total = 0\n",
    "for i in range(1,number+1):\n",
    "    if number % 1==0:\n",
    "        total += 1\n",
    "\n",
    "if total==2:\n",
    "    print(f\"{number} adalah Bil.Prima\")\n",
    "else:\n",
    "    print(f\"{number} adalah Bil. bukan Prima\")\n",
    "    "
   ]
  }
 ],
 "metadata": {
  "kernelspec": {
   "display_name": "Python [conda env:base] *",
   "language": "python",
   "name": "conda-base-py"
  },
  "language_info": {
   "codemirror_mode": {
    "name": "ipython",
    "version": 3
   },
   "file_extension": ".py",
   "mimetype": "text/x-python",
   "name": "python",
   "nbconvert_exporter": "python",
   "pygments_lexer": "ipython3",
   "version": "3.12.7"
  }
 },
 "nbformat": 4,
 "nbformat_minor": 5
}
