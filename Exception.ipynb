{
 "cells": [
  {
   "cell_type": "code",
   "execution_count": 7,
   "id": "c7ac200b",
   "metadata": {},
   "outputs": [
    {
     "name": "stdout",
     "output_type": "stream",
     "text": [
      "Angka 1 20\n",
      "Angka 2 o\n",
      "Input harus angka\n",
      "Program selesai\n"
     ]
    }
   ],
   "source": [
    "try:\n",
    "    angka1 = int(input(\"Angka 1 \"))\n",
    "    angka2 = int(input(\"Angka 2 \"))\n",
    "    hasil = angka1 / angka2\n",
    "    \n",
    "except ZeroDivisionError:\n",
    "    print(\"Tidak boleh pembagian dengan 0\")\n",
    "except ValueError:\n",
    "    print(\"Input harus angka\")\n",
    "else:\n",
    "    print(hasil)\n",
    "finally:\n",
    "    print(\"Program selesai\")                                      "
   ]
  },
  {
   "cell_type": "code",
   "execution_count": 9,
   "id": "970c65fb",
   "metadata": {},
   "outputs": [
    {
     "name": "stdout",
     "output_type": "stream",
     "text": [
      "Angka 1 20\n",
      "Angka 2 0\n",
      "Terjadi kesalahan,division by zero\n",
      "Program selesai\n"
     ]
    }
   ],
   "source": [
    "try:\n",
    "    angka1 = int(input(\"Angka 1 \"))\n",
    "    angka2 = int(input(\"Angka 2 \"))\n",
    "    hasil = angka1 / angka2\n",
    "    \n",
    "except (ZeroDivisionError, ValueError) as e:\n",
    "    print(f\"Terjadi kesalahan,{e}\")\n",
    "\n",
    "else:\n",
    "    print(hasil)\n",
    "finally:\n",
    "    print(\"Program selesai\")"
   ]
  },
  {
   "cell_type": "code",
   "execution_count": 11,
   "id": "930f2085",
   "metadata": {},
   "outputs": [
    {
     "name": "stdout",
     "output_type": "stream",
     "text": [
      "Isikan Urutan Indeks: 8\n",
      "Terjadi kesalahan : list index out of range\n"
     ]
    }
   ],
   "source": [
    "try:\n",
    "    dataNilai = [100,90,80,70,60,100,70]\n",
    "    tampilData = int(input(\"Isikan Urutan Indeks: \"))\n",
    "    print(dataNilai[tampilData])\n",
    "except IndexError as ie:\n",
    "    print(f\"Terjadi kesalahan : {ie}\")"
   ]
  },
  {
   "cell_type": "code",
   "execution_count": 15,
   "id": "317fb351",
   "metadata": {},
   "outputs": [
    {
     "name": "stdout",
     "output_type": "stream",
     "text": [
      "Terjadi kesalahan : 'fakultas'\n"
     ]
    }
   ],
   "source": [
    "try:\n",
    "    dataMahasiswa = {\n",
    "    'nim'    : 20240040130,\n",
    "    'nama'   : \"Sahla\",\n",
    "    'alamat' : \"Kalapanunggl\",\n",
    "    'kelas'  : \"TI24H\"\n",
    "    }\n",
    "\n",
    "    print(dataMahasiswa[\"fakultas\"])\n",
    "except KeyError as k:\n",
    "    print(f\"Terjadi kesalahan : {k}\")\n"
   ]
  },
  {
   "cell_type": "code",
   "execution_count": 20,
   "id": "d2d312d6",
   "metadata": {},
   "outputs": [
    {
     "name": "stdout",
     "output_type": "stream",
     "text": [
      "Terjadi kesalahan Nilai Tidak boleh negatif\n"
     ]
    }
   ],
   "source": [
    "class NilaiNegatifError(Exception):\n",
    "    pass\n",
    "\n",
    "def cekNilai(x):\n",
    "    if(x<0):\n",
    "        raise NilaiNegatifError(\"Nilai Tidak boleh negatif\")\n",
    "    \n",
    "try:\n",
    "    cekNilai(-17)\n",
    "except NilaiNegatifError as negatif:\n",
    "    print(f\"Terjadi kesalahan {negatif}\")"
   ]
  },
  {
   "cell_type": "code",
   "execution_count": 21,
   "id": "ec9c2d1b",
   "metadata": {},
   "outputs": [
    {
     "ename": "FileNotFoundError",
     "evalue": "[Errno 2] No such file or directory: 'dataCustomer.csv'",
     "output_type": "error",
     "traceback": [
      "\u001b[1;31m---------------------------------------------------------------------------\u001b[0m",
      "\u001b[1;31mFileNotFoundError\u001b[0m                         Traceback (most recent call last)",
      "Input \u001b[1;32mIn [21]\u001b[0m, in \u001b[0;36m<cell line: 5>\u001b[1;34m()\u001b[0m\n\u001b[0;32m      1\u001b[0m \u001b[38;5;66;03m#File Handling\u001b[39;00m\n\u001b[0;32m      2\u001b[0m \u001b[38;5;66;03m#variable = open(\"nama_file\",\"mode\")\u001b[39;00m\n\u001b[0;32m      3\u001b[0m \u001b[38;5;66;03m#mode - r (read) , w (write) , a (append)\u001b[39;00m\n\u001b[1;32m----> 5\u001b[0m f \u001b[38;5;241m=\u001b[39m \u001b[38;5;28;43mopen\u001b[39;49m\u001b[43m(\u001b[49m\u001b[38;5;124;43m\"\u001b[39;49m\u001b[38;5;124;43mdataCustomer.csv\u001b[39;49m\u001b[38;5;124;43m\"\u001b[39;49m\u001b[43m,\u001b[49m\u001b[38;5;124;43m\"\u001b[39;49m\u001b[38;5;124;43mr\u001b[39;49m\u001b[38;5;124;43m\"\u001b[39;49m\u001b[43m)\u001b[49m\n\u001b[0;32m      6\u001b[0m konten \u001b[38;5;241m=\u001b[39m f\u001b[38;5;241m.\u001b[39mread()\n\u001b[0;32m      7\u001b[0m \u001b[38;5;28mprint\u001b[39m(konten)\n",
      "\u001b[1;31mFileNotFoundError\u001b[0m: [Errno 2] No such file or directory: 'dataCustomer.csv'"
     ]
    }
   ],
   "source": [
    "#File Handling\n",
    "#variable = open(\"nama_file\",\"mode\")\n",
    "#mode - r (read) , w (write) , a (append)\n",
    "\n",
    "f = open(\"dataCustomer.csv\",\"r\")\n",
    "konten = f.read()\n",
    "print(konten)\n",
    "f.close() "
   ]
  },
  {
   "cell_type": "code",
   "execution_count": 26,
   "id": "809c3096",
   "metadata": {},
   "outputs": [
    {
     "name": "stdout",
     "output_type": "stream",
     "text": [
      "Hallo apa kabar!\n",
      "Sebentar lagi UAS!!\n",
      "\n",
      "Data sudah selesai dibaca semuanya\n",
      "Program selesai\n"
     ]
    }
   ],
   "source": [
    "try:\n",
    "    with open(\"data.txt\") as f:\n",
    "        print(f.read())\n",
    "except FileNotFoundError as fnf:\n",
    "    print(f\"Terjadi kesalahan {fnf}\")\n",
    "else:\n",
    "    print(\"Data sudah selesai dibaca semuanya\")\n",
    "finally:\n",
    "    print(\"Program selesai\")\n",
    "          "
   ]
  },
  {
   "cell_type": "code",
   "execution_count": 24,
   "id": "971d475a",
   "metadata": {},
   "outputs": [
    {
     "name": "stdout",
     "output_type": "stream",
     "text": [
      "Proses selesai!!\n"
     ]
    }
   ],
   "source": [
    "try:\n",
    "    with open(\"data.txt\",\"a\") as f :\n",
    "        f.write(\"Hallo apa kabar!\\n\")\n",
    "        f.write(\"Sebentar lagi UAS!!\\n\")\n",
    "except IOError:\n",
    "    print(IOError)\n",
    "else:\n",
    "    print(\"Proses selesai!!\")"
   ]
  }
 ],
 "metadata": {
  "kernelspec": {
   "display_name": "Python 3 (ipykernel)",
   "language": "python",
   "name": "python3"
  },
  "language_info": {
   "codemirror_mode": {
    "name": "ipython",
    "version": 3
   },
   "file_extension": ".py",
   "mimetype": "text/x-python",
   "name": "python",
   "nbconvert_exporter": "python",
   "pygments_lexer": "ipython3",
   "version": "3.9.12"
  }
 },
 "nbformat": 4,
 "nbformat_minor": 5
}
